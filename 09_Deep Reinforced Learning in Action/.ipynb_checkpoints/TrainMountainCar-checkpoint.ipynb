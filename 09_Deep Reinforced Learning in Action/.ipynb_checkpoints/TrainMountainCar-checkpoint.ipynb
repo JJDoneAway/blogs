{
 "cells": [
  {
   "cell_type": "markdown",
   "metadata": {},
   "source": [
    "# Deep Reinforced Learning in Action\n",
    "\n",
    "In meinem letzten Blog habe ich die Grundlagen des Deep Reinforced Learning (aka Q -Leraning oder DQN) beleuchtet und gezeigt, wie ein Computer ein für ihn völlig fremdes Spiel erlernen kann, ohne die Spielregeln zu kennen. Dreh- und Angelpunkt dafür ist die Bellman Gleichung:\n",
    "\n",
    "$$\\hat Q(s,a) = r + \\gamma \\max_{a'}\\bigl(\\hat Q(s',a')\\bigr)$$\n",
    "\n",
    "Mit der Gleichung ist man in der Lage, Erfahrungen, die der Computer während des Lernens machte, quasi mitzuschreiben und mir in jeder (Spiel - ) Situation zu sagen, was die vielversprechendste nächste Aktion ist. \n",
    "\n",
    "In diesem Blog möchte ich nun an einem einfachen Beispiel zeigen, wie man die Bellman Gleichung in Python Code gießt, damit der Computer lernt, ein einfaches Spiel zu spielen. Als Spiel habe ich mich für \"Maountain Car\" entschieden. Das ist ein wirklich einfaches Spiel, bei dem es darum geht ein kleines Auto aus dem Tal auf den Hügel zu fahren. Da dem Auto die nötige Kraft fehlt, den Hügel einfach so heraufzufahren, muss man sich aus dem Tal \"herausschaukeln\". Dazu kann man drei verschiedene Aktionen wählen. Man kann nach links beschleunigen, man kann nichts machen oder nach rechts beschleunigen. Hat man es nach 200 Aktionen nicht geschafft, so ist das Spiel verloren.\n",
    "\n",
    "![Abb 1: Screenshot von MaountainCar](Extended_MountainCar_model_104_snapshot.png) Abb 1: Screenshot von MountainCar\n",
    "\n",
    "## Boiler Plate Code\n",
    "\n",
    "Wie immer muss man erst mal alle nötigen Pakete importieren und TensorFlow so konfigurieren, dass es die GPU und nicht die CPU des Computers verwendet."
   ]
  },
  {
   "cell_type": "code",
   "execution_count": null,
   "metadata": {},
   "outputs": [],
   "source": [
    "#tensorflow\n",
    "import tensorflow as tf\n",
    "from tensorflow.python.client import device_lib\n",
    "\n",
    "import keras\n",
    "from keras.backend.tensorflow_backend import set_session\n",
    "from keras.models import Sequential\n",
    "from keras.layers import Dense, Dropout\n",
    "from keras.optimizers import Adam\n",
    "from keras.models import load_model\n",
    "\n",
    "from collections import deque \n",
    "\n",
    "import numpy as np\n",
    "\n",
    "import gym                                \n",
    "\n",
    "import random\n",
    "\n",
    "%matplotlib inline\n",
    "import matplotlib.pyplot as plt\n",
    "\n",
    "import pylab as pl\n",
    "\n",
    "from IPython import display\n",
    "\n",
    "import time"
   ]
  },
  {
   "cell_type": "code",
   "execution_count": null,
   "metadata": {},
   "outputs": [],
   "source": [
    "config = tf.ConfigProto()\n",
    "# dynamically grow the memory used on the GPU\n",
    "config.gpu_options.allow_growth = True  \n",
    "config.log_device_placement = False\n",
    "sess = tf.Session(config=config)\n",
    "set_session(sess)"
   ]
  },
  {
   "cell_type": "markdown",
   "metadata": {},
   "source": [
    "## Das Interface zu MountainCar\n",
    "Natürlich muss man irgendwie mit dem Spiel sprechen können, um an den aktuellen Status heranzukommen oder die nächste Aktion zu übermitteln. Das könnte man natürlich mühevoll für jedes Spiel von Hand programmieren oder man verwendet einfach das sehr geniale Framework gym von OpenAI [https://gym.openai.com/docs/](https://gym.openai.com/docs/) Gym hat schon einige Spiele, an denen man sich ausprobieren kann, fertig eingebaut und bietet darüber hinaus noch viele Möglichkeiten der Erweiterung. Ich verwende hier aber nur die Einfachsten Funktionen:\n",
    "\n",
    "* `env = gym.make('MountainCar-v0')` gibt mir die Verbindung zum Spiel MountainCar\n",
    "* `state_new, reward, done, info = env.step(action)` übermittelt die nächste `aktion` und dadurch bekommt man den neuen `status`  und `reward` zurück. Das Attribut `done` sagt mir, ob das Spiel nun vorbei ist: \"Game Over\". Das Feld `info` wird bei MountainCar nicht verwendet, kann also ignoriert werden.\n",
    "\n",
    "Jetzt muss ich nur noch wissen, was für Aktionen es gibt, wie der Staus aufgebaut ist und wie der `reward` aufgebaut ist\n",
    "\n",
    "### `action`\n",
    "* 0 = nach links beschleunigen\n",
    "* 1 = nichts machen\n",
    "* 2 = nach rechts beschleunigen\n",
    "\n",
    "### `status`\n",
    "* state[0] = die aktuelle Position von -1,2 bis +0,6\n",
    "* state[1] = die aktuelle Geschwindigkeit von -0.07 bis +0,07\n",
    "\n",
    "### `reward`\n",
    "Es gibt für jeden Zeitschritt eine Strafe von -1\n",
    "\n",
    "### `done`\n",
    "* false = das Spiel läuft noch\n",
    "* true = das Spiel ist vorbei. Es ist vorbei, wenn man entweder auf der Position 0,5 steht oder wenn 200 Zeitschritte vorbei sind \n",
    "\n",
    "Man hat sogar die Möglichkeit dem Algorithmus beim Trainieren zuzusehen, was ich sehr motivierend finde. Zu guter Letzt kann man sogar einen kleinen Film davon aufzeichnen, wie sein trainiertes Model das Spiel spielt. Der Film zu diesem Versuch ist übrigens ganz unten."
   ]
  },
  {
   "cell_type": "code",
   "execution_count": null,
   "metadata": {},
   "outputs": [],
   "source": [
    "env = gym.make('MountainCar-v0')\n",
    "print(env.observation_space.shape)"
   ]
  },
  {
   "cell_type": "markdown",
   "metadata": {},
   "source": [
    "## Die Metaparameter\n",
    "Über Metaparameter steuert man das Trainingsverhalten. Diese Parameter richtig zu justieren, ist die große Herausforderung an die Erfahrung des Programmierers. Wenn Du mit dem Codebeispiel ein wenig herumspielst, wirst Du sicherlich schnell feststellen, dass oft schon kleine Änderungen an den Parametern den Trainingsverlauf wesentlich beeinflussen.  Manchmal ist es super frustrierend, wenn der Algorithmus knapp am Ziel vorbeischrammt und in eine völlig falsche Strategie abbiegt. Dann darf man sich nicht entmutigen lassen und muss eben noch ein wenig nachkonfigurieren oder auch die Erfahrung anderer Entwickler zu Rate ziehen."
   ]
  },
  {
   "cell_type": "markdown",
   "metadata": {},
   "source": [
    "### Observation Time\n",
    "Das ist eine rein organisatorische Größe, bei der man das Training in eine feste Anzahl von Schritten zerteilt. Die Zahl hat auf die Konvergenz des Modells keinen Einfluss"
   ]
  },
  {
   "cell_type": "code",
   "execution_count": null,
   "metadata": {},
   "outputs": [],
   "source": [
    "# Number of timesteps we will be acting on the game and observing results\n",
    "observetime = 600"
   ]
  },
  {
   "cell_type": "markdown",
   "metadata": {},
   "source": [
    "### Konfiguration der Trainingsblöcke\n",
    "Beim Trainieren des Modells darf man nicht nur die letzten Resultate verwenden, sondern Stichproben aus dem gesamten Trainingsverlauf. Das Training besteht ja immer aus klugen und nicht so klugen Entscheidungen. Die letzten paar Schritte sind aber immer der Pfad zu einem Guten oder Schlechten Ende. Natürlich weiß man das vorher nicht. Insofern sollte man nicht nur die letzte Entscheidung zum Training verwenden, sondern immer eine Auswahl von Stichproben, in die quasi schon Entscheidungen aus erlernter Erfahrung mit eingeflossen sind.\n",
    "\n",
    "* `md_size` = gibt die Größe des Batches an, der zum Trainieren ausgewählt wird\n",
    "* `D` = ist die Queue, in der man die letzten Ergebnisse seiner Spielzüge speichert. Normalerweise wird der Algorithmus ja immer besser. Somit sollte man seine Stichproben ja auch unter den Entscheidungen auswählen, die tendenziell klüger waren. Die Länge der Queue regelt also, wie weit man in die Vergangenheit zurückschaut."
   ]
  },
  {
   "cell_type": "code",
   "execution_count": null,
   "metadata": {},
   "outputs": [],
   "source": [
    "# Learning minibatch size\n",
    "mb_size = 25\n",
    "# remember the old training results\n",
    "D = deque(maxlen=90000)  "
   ]
  },
  {
   "cell_type": "markdown",
   "metadata": {},
   "source": [
    "### Konfiguration der zufälligen Entscheidungen\n",
    "Wenn man etwas neu erlernen möchte, muss man am Anfang viel herumprobieren. Mit anderen Worten: „Wenn ich nicht weiß wie ich mich entscheiden soll, weil ich es schlichtweg noch nicht gelernt habe, entscheide ich mich halt irgendwie.“ Wenn man allerdings mehr Erfahrung gesammelt hat, sollte man die zufälligen Entscheidungen langsam zurückfahren und durch Erfahrung ersetzen.\n",
    "\n",
    "* `epsilon` = wieviel Prozent meiner Entscheidungen sollen zufällig gewählt werden (1 ist hierbei natürlich 100%)\n",
    "* `epsilon_min` = wie hoch ist das Minimum meiner zufälligen Entscheidungen. Man sollte immer ein wenig Zufall übriglassen, da man nie alle möglichen Situationen „durchlernen“ kann.\n",
    "* `epsilon_decay`= um wieviel soll sich der Zufall nach jedem schritt minimieren, bis er beim Minimum angekommen ist."
   ]
  },
  {
   "cell_type": "code",
   "execution_count": null,
   "metadata": {},
   "outputs": [],
   "source": [
    "# Probability of doing a random move\n",
    "epsilon = 1.0\n",
    "epsilon_min = 0.01\n",
    "epsilon_decay = 0.999"
   ]
  },
  {
   "cell_type": "markdown",
   "metadata": {},
   "source": [
    "### Die Konfiguration der Zukunft\n",
    "`gamma` = das $\\gamma$ aus der Bellman Gleichung, mit dem man regelt, wie stark zukünftige Erfahrungen in die jetzige Entscheidung mit einfließen sollen. Je geschlossener das System ist, je größer sollte man das $\\gamma$ wählen. In unserem Spiel erwarten wir zum Beispiel keine unvorhergesehenen Überraschungen. Deshalb habe ich ein hohes $\\gamma$ gewählt. "
   ]
  },
  {
   "cell_type": "code",
   "execution_count": null,
   "metadata": {},
   "outputs": [],
   "source": [
    "# Discounted future reward. How much we care about steps further in time\n",
    "gamma = 0.98"
   ]
  },
  {
   "cell_type": "markdown",
   "metadata": {},
   "source": [
    "### Die Lernrate der Q – Werte\n",
    "Wenn man für die Approximation der Bellman Gleichung nur ein neuronales Netz verwendet, nutzt man es permanent für zwei verschiedene Aspekte. Zum einen errechnet man für seinen nächsten Schritt den $Q(s,a)$ Wert und darüber ja auch die nächste Aktion ($Q_{max}$). Zum anderen muss man das Modell ja auch permanent trainieren. Ich entscheide mich also erst für die nächste Aktion und trainiere mit der gemachten Entscheidung das Modell im Nachgang. Genau durch diese Aktion läuft der Hund quasi permanent seinem eigenen Schwanz hinterher. Um zu vermeiden, dass man sich in Mäandern auf das Ziel zubewegt, sondern mehr oder weniger direkt darauf zusteuert, verwendet man zwei symmetrische neuronale Netze. Eins für die Vorhersage und eins für die Kalkulation der Trainingsdaten. Danach schreibt man einen kleinen Teil der neu antrainierten Gewichte in das Ausgangsmodell zurück. Man schafft sich quasi eine sichere Basis für den nächsten Sprung.  In der Theorie läuft dieses Verfahren unter __Double Deep Q Learning__ (DDQN oder Double DQN). Es lohnt sich, diese wissenschaftliche Arbeit dazu zu lesen (https://arxiv.org/abs/1509.06461)[ https://arxiv.org/abs/1509.06461]\n",
    "\n",
    "* `tau` = Prozentsatz, wieviel der trainierten Gewichte in das finale Modell übernommen werden soll"
   ]
  },
  {
   "cell_type": "code",
   "execution_count": null,
   "metadata": {},
   "outputs": [],
   "source": [
    "# fraction of the weight we take over from the train model to the target one\n",
    "tau = 0.02"
   ]
  },
  {
   "cell_type": "markdown",
   "metadata": {},
   "source": [
    "## Das Neuronale Netz\n",
    "Das Netz ist wirklich eines der simpelsten. Da wir keine Bildverarbeitung am Anfang haben, besteht es einfach nur aus vier __Dense Layern__. Das einzig spannende ist, dass wir zwei und nicht ein Netz bauen, die sich aber die gleichen Startgewichte teilen."
   ]
  },
  {
   "cell_type": "code",
   "execution_count": null,
   "metadata": {
    "scrolled": false
   },
   "outputs": [],
   "source": [
    "def create_model():\n",
    "    # Create network. Input is two consecutive game states, output is Q-values of the possible moves.\n",
    "    model = Sequential()\n",
    "    state_shape  = env.observation_space.shape\n",
    "    #tested 2,24,48,24 ==> okisch\n",
    "    #tested 2,8,12,6 ==> bad\n",
    "    #tested 2,48,96,48 ==> bad    \n",
    "    model.add(Dense(24, input_dim=state_shape[0], activation=\"relu\"))\n",
    "    model.add(Dense(48, activation='relu'))\n",
    "    model.add(Dense(24, activation='relu'))\n",
    "    model.add(Dense(3))\n",
    "    model.compile(loss=\"mean_squared_error\", optimizer=Adam(lr=0.001, decay=1e-6))\n",
    "    model.summary()\n",
    "    return model\n",
    "\n",
    "model = create_model()\n",
    "target_model = create_model()\n",
    "target_model.set_weights(model.get_weights())\n"
   ]
  },
  {
   "cell_type": "markdown",
   "metadata": {},
   "source": [
    "## Die nächste Aktion berechnen\n",
    "Je nachdem, ob wir eine zufällige Entscheidung haben wollen oder nicht, befragen wir entweder das Netz oder den Zufall. Nach jeder Entscheidung wird die Wahrscheinlichkeit für eine zufällige Entscheidung ein wenig mehr reduziert. "
   ]
  },
  {
   "cell_type": "code",
   "execution_count": null,
   "metadata": {},
   "outputs": [],
   "source": [
    "def get_next_action(state):\n",
    "    if np.random.rand() <= update_epsilon():\n",
    "        return np.random.randint(0, env.action_space.n, size=1)[0]\n",
    "    else:\n",
    "        Q = model.predict(state.reshape(1,2)) \n",
    "        return np.argmax(Q[0])\n",
    "\n",
    "def update_epsilon():\n",
    "    global epsilon\n",
    "    epsilon *=  epsilon_decay\n",
    "    epsilon = max(epsilon_min, epsilon)\n",
    "    return epsilon"
   ]
  },
  {
   "cell_type": "markdown",
   "metadata": {},
   "source": [
    "## Ein kleiner Betrug\n",
    "Das Spiel Mountain Car hat eine Härte eingebaut. Man bekommt für jede Aktion einen Reward von __-1__. Das heißt, man muss das Spiel möglichst schnell hinter sich bringen, um den Reward zu minimieren. Für den Algorithmus ist das eine sehr hohe Herausforderung, da man bereits wissen muss, wie das Spiel funktioniert um überhaupt in den Bereich der Optimierung zu laufen. Diesen Reward kann man sich, nachdem man alle Metaparameter optimiert hat, als Kür aufheben. Es empfiehlt sich aber während des Optimierens den Reward ein wenig klarer zu formulieren. Ich habe mich dazu entschlossen einen Reward dafür zu geben, wenn das Auto möglichst weit rechts vom Ausgangspunkt steht. Zudem verstärke ich den Reward je weiter das Auto auf der rechten Seite Boden gut macht."
   ]
  },
  {
   "cell_type": "code",
   "execution_count": null,
   "metadata": {},
   "outputs": [],
   "source": [
    "# score for the reward. The more the car is on the right side the better the reward\n",
    "score = 0\n",
    "def cheat_reward(reward, state, new_state):\n",
    "    global score\n",
    "    delta = 0\n",
    "    new_score = max(new_state[0] + 0.5, score)\n",
    "    if new_score > score:\n",
    "        delta = new_score - score\n",
    "        score = new_score\n",
    "        return score\n",
    "    #return 10 * score**2 * delta\n",
    "    return 0"
   ]
  },
  {
   "cell_type": "markdown",
   "metadata": {},
   "source": [
    "## Das Training beginnt\n",
    "Das Training des neuronalen Netzes läuft immer in vier Schritten ab, die solange wiederholt werden, bis man mit dem Ergebnis zufrieden ist. \n",
    "\n",
    "1. Frage das Modell oder den Zufall nach der nächsten Aktion, die man durchführen soll.\n",
    "2. Führe die Aktion durch und erhalte dafür den Reward und den neuen Status, in dem Du dich nun befindest\n",
    "3. Speichere die durchgeführte Aktion, den alten Status, den neuen Status und den Reward in deiner Queue\n",
    "4. Trainiere dein neuronales Netz mit dem Gelernten"
   ]
  },
  {
   "cell_type": "code",
   "execution_count": null,
   "metadata": {},
   "outputs": [],
   "source": [
    "# necessary moves, the yet best trained model needed \n",
    "min_moves = 200\n",
    "# number of already played games\n",
    "episode = 1\n",
    "def train():\n",
    "    global score, min_moves, episode\n",
    "    # we record the done actions to get a general feeling how the algorithm works\n",
    "    actions =  [0,0,0]\n",
    "    # we recorde the total number of moves per game\n",
    "    moves = 0\n",
    "    # we sum up all the rewards we got to get a general feeling how the algorithm works\n",
    "    tot_reward = 0\n",
    "    # this will store the result tuples to report the training behavoir\n",
    "    result = []\n",
    "    # start the game\n",
    "    state = env.reset()\n",
    "    \n",
    "    for t in range(observetime):\n",
    "        # this will show the game during the training\n",
    "        env.render()\n",
    "        moves += 1\n",
    "        # ask the KI or the random for the next move\n",
    "        action = get_next_action(state)\n",
    "        # record it\n",
    "        actions[action] += 1\n",
    "\n",
    "        # ask the game if the move was clever\n",
    "        state_new, reward, done, info = env.step(action)\n",
    "        # get the fixed reward for a faster convergation\n",
    "        reward = cheat_reward(reward, state, state_new)\n",
    "        # record it\n",
    "        tot_reward += reward\n",
    "        # store it for the later training of the model\n",
    "        D.append((state, action, reward, state_new, done)) \n",
    "        # the new status is the old status of the next step\n",
    "        state = state_new   \n",
    "\n",
    "        #clean up the stage to start the next game\n",
    "        if done:\n",
    "            # if the result is the best one we store it\n",
    "            if moves < min_moves:\n",
    "                model.save(\"trainedModels/MountainCar_model_{}.model\".format(moves))\n",
    "                min_moves = moves\n",
    "            # restart the game\n",
    "            state = env.reset()\n",
    "            # record the results\n",
    "            result.append((episode, actions, score, tot_reward, moves, epsilon, len(D)))\n",
    "            # some nice logging \n",
    "            print(\"Episode: {}. Actions: {}. Max Pos: {:.4f}. tot Reward: {:.4f}. Moves: {}. Epsilon: {:.4f}. Deque Size: {}\".format(episode, actions, score, tot_reward, moves, epsilon, len(D)))\n",
    "            # reset the attributes used for the recording\n",
    "            episode += 1\n",
    "            moves = 0\n",
    "            reward = 0\n",
    "            tot_reward = 0\n",
    "            score = 0\n",
    "            actions =  [0,0,0]\n",
    "                \n",
    "        # after every move we fit our model\n",
    "        update()\n",
    "        update_target_model()\n",
    "\n",
    "    pass\n",
    "    return result"
   ]
  },
  {
   "cell_type": "markdown",
   "metadata": {},
   "source": [
    "## Das neuronale Netz anpassen\n",
    "Bevor ich beschreibe, was hier passiert, möchte ich noch einmal ins Gedächtnis rufen, wie ein neuronales Netz trainiert wird. Das Netz ist zunächst einmal eine Black Box, die aus einem Eingabewert ein Ergebnis berechnet. In unserem Fall stecke ich einen Status links hinein und bekomme einen Action Vektor rechts heraus. \n",
    "Nun stimmt das Ergebnis aber leider nicht. Die Black Box muss erst noch trainiert werden. Das Training funktioniert so, dass man quasi zu der Black Box sagt: “Das hier ist Dein Ergebnis, dass Du eben errechnet hast und hier ist das richtige Ergebnis, das herauskommen sollte. Bitte bilde die Differenz und passe deine internen Stellschrauben so an, dass Du für dieses Beispiel das richtige Ergebnis ausrechnen kannst.“  Wenn man diesen Schritt mit genügend Beispielen durchführt, werden die Ergebnisse der Black Box befriedigend genau (wenn man Glück hat). Das Modell konvergiert.\n",
    "Somit brauchen wir also zwei Dinge pro Beispiel:\n",
    "\n",
    "1. Einen Status für die linke Seite\n",
    "2. Den $Q$ Value, den wir als richtig erwarten würden\n",
    "\n",
    "Eben diesen $Q$ Value haben wir aber nicht, da wir die Bellman Gleichung ($\\hat Q(s,a) = r + \\gamma \\max_{a'}\\bigl(\\hat Q(s',a')\\bigr)$) noch nicht approximiert haben (das ist ja das Ziel der Übung). Somit müssen wir einen $Q$ Value finden, der möglichst dicht an der Wahrheit ist. Die halbe Miete ist aber schon im Sack. Das ist nämlich der Reward $r$, den wir vom Spiel für diese Aktion $a$ in diesem Status $s$ zurückbekommen haben. Fehlt noch der Blick in die Zukunft. Also der zweite Teil der Bellman Gleichung ($\\max_{a'}\\bigl(\\hat Q(s',a')\\bigr)$). Genau hier kommt unser zweites Modell (`target_model`) ins Spiel. Das ist unsere feste Absprungbasis, die wir oben definiert haben. Mit diesem Modell versuche ich nun möglichst dicht an den Reward aller zukünftiger Entscheidungen heranzukommen. Diesen Wert verwende ich als erwartetes Ergebnis für die Minimierung des Fehlers."
   ]
  },
  {
   "cell_type": "code",
   "execution_count": null,
   "metadata": {
    "scrolled": true
   },
   "outputs": [],
   "source": [
    "# Update the weights of your model\n",
    "def update():\n",
    "    states = []\n",
    "    targets = []\n",
    "    amount = min(len(D), mb_size)\n",
    "    minibatch = random.sample(D, amount)\n",
    "    for i in range(0, amount):\n",
    "        state = minibatch[i][0]\n",
    "        action = minibatch[i][1]\n",
    "        reward = minibatch[i][2]\n",
    "        state_new = minibatch[i][3]\n",
    "        done = minibatch[i][4]\n",
    "        \n",
    "        \n",
    "        # Build Bellman equation for the Q function taken from the final model\n",
    "        Q_sa = model.predict(state.reshape(1,2))\n",
    "        Q_sa_next = target_model.predict(state_new.reshape(1,2))\n",
    "\n",
    "        if done:\n",
    "            Q_sa[0][action] = reward\n",
    "        else:\n",
    "            Q_sa[0][action] = reward + gamma * np.max(Q_sa_next[0])\n",
    "                \n",
    "        \n",
    "        states.append(state)\n",
    "        targets.append(Q_sa[0])\n",
    "        \n",
    "    # Train worker model to output the Q function \n",
    "    model.fit(np.array(states), np.array(targets), epochs = 1, verbose = 0)"
   ]
  },
  {
   "cell_type": "markdown",
   "metadata": {},
   "source": [
    "## Das zweite Model ein wenig anpassen\n",
    "Nach jedem Training werden die Gewichte des `target_model` um den Faktor $\\tau$ angepasst. Damit erreicht man eine verhaltene Lernrate, die nicht zu sehr schwankt."
   ]
  },
  {
   "cell_type": "code",
   "execution_count": null,
   "metadata": {},
   "outputs": [],
   "source": [
    "def update_target_model():\n",
    "    weights = model.get_weights()\n",
    "    target_weights = target_model.get_weights()\n",
    "    for i in range(len(target_weights)):\n",
    "        target_weights[i] = weights[i] * tau + target_weights[i] * (1 - tau)\n",
    "    target_model.set_weights(target_weights)"
   ]
  },
  {
   "cell_type": "markdown",
   "metadata": {},
   "source": [
    "## Zeit für eine Tasse Kaffee\n",
    "Hier wird das Training angestoßen und es dauert lange. Je nachdem, wie wenig man den Reward frisiert hat, kann es einige Stunden dauern, bis das Modell in einem annehmbaren Bereich ist. Meine Erfahrung ist, dass man unter 200 Episoden meist nichts Vernünftiges herausbekommt, wenn man mit dem Reward nicht gewaltig nachhilft."
   ]
  },
  {
   "cell_type": "code",
   "execution_count": null,
   "metadata": {
    "scrolled": true,
    "slideshow": {
     "slide_type": "slide"
    }
   },
   "outputs": [],
   "source": [
    "run = 0\n",
    "#0          1          2         3             4        5          6\n",
    "#episode[], actions[], reward[], tot_reward[], moves[], epsilon[], len(D)[]\n",
    "results = ([],[],[],[],[],[],[])\n",
    "\n",
    "for i in range(2000): \n",
    "    for result in train():\n",
    "        for index, element in enumerate(result):\n",
    "            results[index].append(element)\n"
   ]
  },
  {
   "cell_type": "code",
   "execution_count": 18,
   "metadata": {},
   "outputs": [
    {
     "data": {
      "image/png": "[encoded data removed]",
      "text/plain": [
       "<Figure size 432x288 with 1 Axes>"
      ]
     },
     "metadata": {},
     "output_type": "display_data"
    },
    {
     "name": "stdout",
     "output_type": "stream",
     "text": [
      "Abb 2: Anzahl der nötigen Aktionen\n"
     ]
    },
    {
     "data": {
      "image/png": "[encoded data removed]",
      "text/plain": [
       "<Figure size 432x288 with 1 Axes>"
      ]
     },
     "metadata": {},
     "output_type": "display_data"
    },
    {
     "name": "stdout",
     "output_type": "stream",
     "text": [
      "Abb 3: Eingesammelte Rewards\n"
     ]
    }
   ],
   "source": [
    "plt.plot(results[0], results[4])\n",
    "plt.xlabel('Episodes')\n",
    "plt.ylabel('Done moves')\n",
    "plt.title('Training Convergence')\n",
    "plt.show()\n",
    "print(\"Abb 2: Anzahl der nötigen Aktionen\")\n",
    "\n",
    "plt.plot(results[0], results[3])\n",
    "plt.xlabel('Episodes')\n",
    "plt.ylabel('total rewards')\n",
    "plt.title('Training Convergence')\n",
    "plt.show()\n",
    "print(\"Abb 3: Eingesammelte Rewards\")"
   ]
  },
  {
   "cell_type": "markdown",
   "metadata": {},
   "source": [
    "## Schluss\n",
    "DDQN ist kein schlechtes Mittel, um einfache Aufgabenstellungen zu knacken. Natürlich gibt es hier noch etliche Methoden und Tricks, das Ergebnis zu verbessern. Man kann zum Beispiel für den Eingabevektor den aktuellen und den letzten Status verwenden, damit man auch eine Information über die Änderung der Position hat. Oder man kann in seinen Trainings Batch nur die besonders erfolgreichen Episoden aufnehmen. Irgendwann reicht das Verfahren aber nicht mehr aus und man muss sich anderen Lernverfahren wie zum Beispiel dem Actor Critic Learning zuwenden. Nichts desto trotz ist es spannend zuzusehen, wie sich der Computer ein Spiel komplett eigenständig beibringt und ich wünsche viel Spaß beim Ausprobieren.  \n",
    "Abschließend noch ein kleines Beispiel von einem Modell, das im Training 104 Züge brauchte. Damit liegt es mittendrin. Mein bestes Model erreichte das Ziel in knapp 70 Zügen. \n",
    "\n",
    "![Abb 4: Ein ordentlich trainiertes Modell](Extended_MountainCar_model_104_loop.gif) Abb 4: Ein ordentlich trainiertes Modell"
   ]
  }
 ],
 "metadata": {
  "kernelspec": {
   "display_name": "Python 3",
   "language": "python",
   "name": "python3"
  }
 },
 "nbformat": 4,
 "nbformat_minor": 2
}
