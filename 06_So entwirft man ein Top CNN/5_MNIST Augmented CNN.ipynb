{
 "cells": [
  {
   "cell_type": "markdown",
   "metadata": {},
   "source": [
    "# KI-Werkbank\n",
    "# MNIST 99,64% - Mit einem einfachen Convolutional Neuronal Network (CNN) unter die Top 10%\n",
    "\n",
    "## Worum geht es hier?\n",
    "In meinen letzten Blogs habe ich die einzelnen Bausteine eines Convolutional Neuronal Networks beschrieben, das designtechnisch im Jahre 2018 angekommen ist. \n",
    "\n",
    "Auf der Plattform [Kaggle.com](https://www.kaggle.com) fand in den letzten Jahren ein Wettstreit statt, handgeschriebene Ziffern per Machine Learning zu erkennen. Der Rekord bei der Trefferrate liegt im Augenblick jenseits der 99,7% aber knapp unter 99,8%. Der Bereich oberhalb der 99,8% wird als unmöglich zu erreichen betrachtet. Lässt man sich die Kandidaten in diesem Grenzbereich einmal anzeigen, versteht man auch warum. Es sind so unordentlich geschriebene Ziffern, dass weder Mensch noch Maschine diese eindeutig bestimmen können.\n",
    "\n",
    "Die Architektur, die ich hier nun aus allen Einzelteilen zusammenbaue, kommt zu einer Genauigkeit von 99,64% und ist somit unter den Top Kandidaten. Damit möchte ich zeigen, dass neuronale Hochleistungsnetze keine Zauberei, sondern solide Ingenieurskunst sind. Man muss also nicht in einem Geheimlabor der NSA 100 Meter unter der Erde arbeiten um das zu können, sondern kann sich mit viel Liebe zum Detail dem Ziel zügig nähern.\n",
    "\n",
    "Da ich die Einzelteile ja bereits sehr ausführlich beschrieben habe, werde ich bis auf eine Ausnahme (CallBacks) nicht mehr viel beschreiben. Falls Dir also die dargereichten Erklärungen zu schmal scheinen, möchte ich dich bitten, in den vorherigen Blogs nachzulesen.\n"
   ]
  },
  {
   "cell_type": "markdown",
   "metadata": {},
   "source": [
    "## Die Bauanleitung\n",
    "### Boiler Plate"
   ]
  },
  {
   "cell_type": "code",
   "execution_count": 2,
   "metadata": {
    "scrolled": true
   },
   "outputs": [
    {
     "name": "stderr",
     "output_type": "stream",
     "text": [
      "Using TensorFlow backend.\n"
     ]
    }
   ],
   "source": [
    "#tensorflow\n",
    "import tensorflow as tf\n",
    "from tensorflow.python.client import device_lib\n",
    "\n",
    "#keras\n",
    "import keras\n",
    "from keras.backend.tensorflow_backend import set_session\n",
    "from keras.datasets import mnist\n",
    "from keras import models\n",
    "from keras import layers\n",
    "from keras import regularizers\n",
    "from keras.utils import to_categorical\n",
    "from keras import backend as K\n",
    "from keras.preprocessing.image import ImageDataGenerator\n",
    "from keras.optimizers import RMSprop\n",
    "from keras import callbacks\n",
    "\n",
    "#numpy\n",
    "import numpy as np\n",
    "\n",
    "#sklearn\n",
    "from sklearn.metrics import confusion_matrix\n",
    "\n",
    "#itertools\n",
    "import itertools\n",
    "\n",
    "#matplotlib\n",
    "%matplotlib inline\n",
    "import matplotlib.pyplot as plt\n",
    "import matplotlib.patches as mpatches\n",
    "\n",
    "#time\n",
    "import time\n",
    "\n",
    "#os\n",
    "import os\n",
    "\n",
    "#Force GPU support with growing memory\n",
    "config = tf.ConfigProto()\n",
    "config.gpu_options.allow_growth = True  # dynamically grow the memory used on the GPU\n",
    "sess = tf.Session(config=config)\n",
    "set_session(sess)"
   ]
  },
  {
   "cell_type": "markdown",
   "metadata": {},
   "source": [
    "### Trainings und Testdaten besorgen"
   ]
  },
  {
   "cell_type": "code",
   "execution_count": 3,
   "metadata": {
    "scrolled": true
   },
   "outputs": [],
   "source": [
    "#keras / tensorflow has already the full MNIST dataset\n",
    "(train_images_raw, train_labels_raw), (test_images_raw, test_labels_raw) = mnist.load_data()"
   ]
  },
  {
   "cell_type": "markdown",
   "metadata": {},
   "source": [
    "### Samples und Features normieren und aufsplitten"
   ]
  },
  {
   "cell_type": "code",
   "execution_count": 4,
   "metadata": {
    "scrolled": true
   },
   "outputs": [
    {
     "name": "stdout",
     "output_type": "stream",
     "text": [
      "Amount of all images:(60000, 28, 28, 1)\n",
      "Amount of all training images:(54000, 28, 28, 1)\n",
      "Amount of all validation images:(6000, 28, 28, 1)\n",
      "Amount of all labels:(60000, 10)\n",
      "Amount of all training labels:(54000, 10)\n",
      "Amount of all validation labels:(6000, 10)\n"
     ]
    }
   ],
   "source": [
    "#fraktion of the training to the validation samples\n",
    "a_train = int(train_images_raw.shape[0] * 0.9)\n",
    "\n",
    "images = train_images_raw.reshape((train_images_raw.shape[0], 28, 28, 1))\n",
    "images = images.astype('float32') / 255 #255 different gray scales\n",
    "\n",
    "train_images = images[ : a_train]\n",
    "valid_images = images[a_train : ]\n",
    "print(\"Amount of all images:{}\".format(images.shape))\n",
    "print(\"Amount of all training images:{}\".format(train_images.shape))\n",
    "print(\"Amount of all validation images:{}\".format(valid_images.shape))\n",
    "\n",
    "#convert labels into one hot representation\n",
    "labels = to_categorical(train_labels_raw)\n",
    "train_labels = labels[ : a_train]\n",
    "valid_labels = labels[a_train : ]\n",
    "print(\"Amount of all labels:{}\".format(labels.shape))\n",
    "print(\"Amount of all training labels:{}\".format(train_labels.shape))\n",
    "print(\"Amount of all validation labels:{}\".format(valid_labels.shape))\n",
    "\n",
    "\n",
    "test_images = test_images_raw.reshape((test_images_raw.shape[0], 28, 28, 1))\n",
    "test_images = test_images.astype('float32') / 255 #255 different gray scales\n",
    "test_labels = to_categorical(test_labels_raw)"
   ]
  },
  {
   "cell_type": "markdown",
   "metadata": {},
   "source": [
    "### Das Netz zusammen bauen\n",
    "\n",
    "Anmerkung: hier habe ich die Konfiguration des `optimizers` herausgezogen, um die anfängliche Lernrate `lr` explizit zu setzen "
   ]
  },
  {
   "cell_type": "code",
   "execution_count": 5,
   "metadata": {
    "scrolled": false
   },
   "outputs": [
    {
     "name": "stdout",
     "output_type": "stream",
     "text": [
      "_________________________________________________________________\n",
      "Layer (type)                 Output Shape              Param #   \n",
      "=================================================================\n",
      "conv2d_1 (Conv2D)            (None, 28, 28, 32)        320       \n",
      "_________________________________________________________________\n",
      "batch_normalization_1 (Batch (None, 28, 28, 32)        128       \n",
      "_________________________________________________________________\n",
      "conv2d_2 (Conv2D)            (None, 28, 28, 32)        9248      \n",
      "_________________________________________________________________\n",
      "batch_normalization_2 (Batch (None, 28, 28, 32)        128       \n",
      "_________________________________________________________________\n",
      "conv2d_3 (Conv2D)            (None, 28, 28, 32)        25632     \n",
      "_________________________________________________________________\n",
      "batch_normalization_3 (Batch (None, 28, 28, 32)        128       \n",
      "_________________________________________________________________\n",
      "conv2d_4 (Conv2D)            (None, 28, 28, 64)        18496     \n",
      "_________________________________________________________________\n",
      "batch_normalization_4 (Batch (None, 28, 28, 64)        256       \n",
      "_________________________________________________________________\n",
      "conv2d_5 (Conv2D)            (None, 28, 28, 64)        36928     \n",
      "_________________________________________________________________\n",
      "batch_normalization_5 (Batch (None, 28, 28, 64)        256       \n",
      "_________________________________________________________________\n",
      "conv2d_6 (Conv2D)            (None, 28, 28, 64)        102464    \n",
      "_________________________________________________________________\n",
      "batch_normalization_6 (Batch (None, 28, 28, 64)        256       \n",
      "_________________________________________________________________\n",
      "conv2d_7 (Conv2D)            (None, 28, 28, 32)        18464     \n",
      "_________________________________________________________________\n",
      "dropout_1 (Dropout)          (None, 28, 28, 32)        0         \n",
      "_________________________________________________________________\n",
      "flatten_1 (Flatten)          (None, 25088)             0         \n",
      "_________________________________________________________________\n",
      "dropout_2 (Dropout)          (None, 25088)             0         \n",
      "_________________________________________________________________\n",
      "dense_1 (Dense)              (None, 128)               3211392   \n",
      "_________________________________________________________________\n",
      "dropout_3 (Dropout)          (None, 128)               0         \n",
      "_________________________________________________________________\n",
      "dense_2 (Dense)              (None, 10)                1290      \n",
      "=================================================================\n",
      "Total params: 3,425,386\n",
      "Trainable params: 3,424,810\n",
      "Non-trainable params: 576\n",
      "_________________________________________________________________\n"
     ]
    }
   ],
   "source": [
    "model = models.Sequential()\n",
    "# Convolution Layers\n",
    "model.add(layers.Conv2D(32, (3, 3), padding = 'same', activation = 'relu', input_shape = (28, 28, 1)))\n",
    "model.add(layers.BatchNormalization())\n",
    "\n",
    "model.add(layers.Conv2D(32, (3, 3), padding = 'same', activation = 'relu'))\n",
    "model.add(layers.BatchNormalization())\n",
    "\n",
    "model.add(layers.Conv2D(32, (5, 5), padding = 'same', activation = 'relu'))\n",
    "model.add(layers.BatchNormalization())\n",
    "\n",
    "model.add(layers.Conv2D(64, (3, 3), padding = 'same', activation = 'relu', input_shape = (28, 28, 1)))\n",
    "model.add(layers.BatchNormalization())\n",
    "\n",
    "model.add(layers.Conv2D(64, (3, 3), padding = 'same', activation = 'relu'))\n",
    "model.add(layers.BatchNormalization())\n",
    "\n",
    "model.add(layers.Conv2D(64, (5, 5), padding = 'same', activation = 'relu'))\n",
    "model.add(layers.BatchNormalization())\n",
    "\n",
    "model.add(layers.Conv2D(32, (3, 3), padding = 'same', activation = 'relu'))\n",
    "model.add(layers.Dropout(0.4))\n",
    "\n",
    "# Fully connected Layers\n",
    "model.add(layers.Flatten())\n",
    "model.add(layers.Dropout(0.4))\n",
    "model.add(layers.Dense(128, activation='relu'))\n",
    "model.add(layers.Dropout(0.4))\n",
    "model.add(layers.Dense(10 , activation='softmax'))\n",
    "\n",
    "optimizer = RMSprop(lr=0.001, rho=0.9, epsilon=1e-08, decay=0.0)\n",
    "\n",
    "model.compile(optimizer = optimizer , loss='categorical_crossentropy', metrics=['accuracy'])\n",
    "model.summary()"
   ]
  },
  {
   "cell_type": "markdown",
   "metadata": {},
   "source": [
    "### Zum Augmentieren der Daten: Der `ImageDataGenerator`"
   ]
  },
  {
   "cell_type": "code",
   "execution_count": 6,
   "metadata": {},
   "outputs": [],
   "source": [
    "datagen = ImageDataGenerator(\n",
    "    # Wieviel Grad [0, 180] darf sich das Bild hin und her drehen\n",
    "    rotation_range = 10, \n",
    "    # Um wieviel darf das Bild nach links und rechts bewegt werden\n",
    "    width_shift_range=0.1, \n",
    "    # Um wieviel darf das Bild nach Oben und Unten bewegt werden\n",
    "    height_shift_range=0.1, \n",
    "    # Die Varianz von dunkel zu hell \n",
    "    #brightness_range = (0.1, 2), \n",
    "    # In welchem Bereich darf das Bild abgeschert werden\n",
    "    shear_range = 0.1, \n",
    "    # In welchem Bereich dar das Bild die größe ändern\n",
    "    zoom_range = 0.1, \n",
    "    # Bei Zahlen sollte man auf das Spiegeln eher verzichten :)\n",
    "    horizontal_flip = False, \n",
    "    # Bei Zahlen sollte man auf das Spiegeln eher verzichten :)\n",
    "    vertical_flip = False)"
   ]
  },
  {
   "cell_type": "markdown",
   "metadata": {},
   "source": [
    "### Callbacks zum Überwachen\n",
    "Das ist eine Technik, die ich vorher noch nicht beschrieben habe. Mit Callbacks kann man das Training des Modells überwachen und bei Bedarf eingreifen. Die nun folgenden drei Callbacks tun genau dies\n",
    "\n",
    "#### Überwachen der Lernrate\n",
    "Die Lernrate ist die Schrittweite, mit der das Gradienten Verfahren bei der Suche nach dem Minima im Hypothesenraum den nächsten Schritt macht. \n",
    "\n",
    "Das Bild, das man dazu oft findet, ist der Bergsteiger, der den Weg hinunter ins Tal sucht. Wenn der Bergsteiger im Vergleich zu den Bergen zu klein ist, wird er mit seinen Trippelschrittchen einfach in die nächstbeste Delle laufen und diese für das absolute Minimum halten. \n",
    "\n",
    "Ist der Bergsteiger aber riesengroß, dann besteht die Gefahr, dass er über das entscheidende Tal einfach drübersteigt. \n",
    "\n",
    "Ein Indikator für das aktuelle Gelände, durch das der Bergsteiger gerade läuft, ist die Verlustrate der letzten Validierungsschritte. Ändert diese sich kaum noch, so ist der Bergsteiger anscheinend in einem Tal angekommen. Hier zeigt die Erfahrung, dass es sinnvoll ist, die Lernrate zu verkleinern und genau das macht der `ReduceLROnPlateau` Callback im laufenden Betrieb."
   ]
  },
  {
   "cell_type": "code",
   "execution_count": 7,
   "metadata": {},
   "outputs": [],
   "source": [
    "learning_rate_reduction = callbacks.ReduceLROnPlateau(\n",
    "                                            # val_acc zeigt die letzten verlusraten\n",
    "                                            monitor='val_acc', \n",
    "                                            # wie lange halten wir die Fuesse still, bevor wir die Lernrate anpassen\n",
    "                                            patience=3, \n",
    "                                            verbose=1,\n",
    "                                            # Die lernrate wird halbiert\n",
    "                                            factor=0.5, \n",
    "                                            # ab wann brechen wir ab\n",
    "                                            min_lr=0.00001)"
   ]
  },
  {
   "cell_type": "markdown",
   "metadata": {},
   "source": [
    "#### Aufhören, wenn es nichts mehr bringt\n",
    "Wenn sich die Genauigkeit nicht mehr ändert, können wir mit dem Training auch aufhören. Damit entledigt man sich des Problems die Anzahl der Lernraten sinnvoll zu belegen."
   ]
  },
  {
   "cell_type": "code",
   "execution_count": 8,
   "metadata": {},
   "outputs": [],
   "source": [
    "early_stopping = callbacks.EarlyStopping(\n",
    "                                            # über welchen Monitor beobachtet man die Änderung der letzten Iterationen?\n",
    "                                            monitor = 'acc',\n",
    "                                            # wie lange halten wir die Fuesse still, bis wir das Lernen abbrechen\n",
    "                                            patience = 3)"
   ]
  },
  {
   "cell_type": "markdown",
   "metadata": {},
   "source": [
    "#### Nichts wegschmeißen\n",
    "Wenn man sich in das perfekte Modell hineindreht, überläuft man eigentlich immer den optimalen Punkt, an dem das Modell die beste Genauigkeit hatte. Leider ist dieser Punkt mit der nächsten Epoche unwiederbringlich verloren, da die Gewichte bereits geändert wurden. Um diesem Dilemma vorzubeugen, speichere ich das jeweils beste Modell ab. Hat sich die Qualität also im Vergleich zu den vorherigen Berechnungen verbessert, schreibe ich das Modell auf die Festplatte. Somit habe ich immer das beste Modell eines Laufs gerettet."
   ]
  },
  {
   "cell_type": "code",
   "execution_count": 9,
   "metadata": {},
   "outputs": [],
   "source": [
    "model_checkpoint = callbacks.ModelCheckpoint(\n",
    "                                            # Dateiname mit Pfad relativ zu dieserm Code\n",
    "                                            filepath = 'persist_model/augmenting_cnn_MNIST_model.h5',\n",
    "                                            # Welcher Monitor soll beobachtet werden, um über die äbderung der Qualität zu entscheiden\n",
    "                                            monitor = 'val_loss',\n",
    "                                            # Nur speciern, wenn sich auch was verbessert hat\n",
    "                                            save_best_only = True)"
   ]
  },
  {
   "cell_type": "markdown",
   "metadata": {},
   "source": [
    "### Los geht’s\n",
    "Wenn du deine GPU Unterstützung nicht aktiviert hast, solltest du hier aufhören, oder es wird ein sehr langes Wochenende, bis dein Rechner aus der Versenkung wieder auftaucht. Das Normalisieren der Ergebnisse dauert lange. "
   ]
  },
  {
   "cell_type": "code",
   "execution_count": 37,
   "metadata": {
    "scrolled": false
   },
   "outputs": [
    {
     "name": "stdout",
     "output_type": "stream",
     "text": [
      "Epoch 1/200\n",
      "210/210 [==============================] - 36s 173ms/step - loss: 0.9621 - acc: 0.7322 - val_loss: 0.1943 - val_acc: 0.9547\n",
      "Epoch 2/200\n",
      "210/210 [==============================] - 32s 153ms/step - loss: 0.2421 - acc: 0.9325 - val_loss: 0.0697 - val_acc: 0.9847\n",
      "Epoch 3/200\n",
      "210/210 [==============================] - 32s 155ms/step - loss: 0.1665 - acc: 0.9560 - val_loss: 0.0503 - val_acc: 0.9880\n",
      "Epoch 4/200\n",
      "210/210 [==============================] - 35s 167ms/step - loss: 0.1309 - acc: 0.9662 - val_loss: 0.0506 - val_acc: 0.9885s: 0.1319 - acc\n",
      "Epoch 5/200\n",
      "210/210 [==============================] - 52s 249ms/step - loss: 0.1078 - acc: 0.9714 - val_loss: 0.0393 - val_acc: 0.9912\n",
      "Epoch 6/200\n",
      "210/210 [==============================] - 93s 442ms/step - loss: 0.0984 - acc: 0.9746 - val_loss: 0.0304 - val_acc: 0.9928\n",
      "Epoch 7/200\n",
      "210/210 [==============================] - 93s 442ms/step - loss: 0.0914 - acc: 0.9766 - val_loss: 0.0345 - val_acc: 0.9902\n",
      "\n",
      "Epoch 00007: ReduceLROnPlateau reducing learning rate to 0.0005000000237487257.\n",
      "Epoch 8/200\n",
      "210/210 [==============================] - 89s 422ms/step - loss: 0.0618 - acc: 0.9844 - val_loss: 0.0289 - val_acc: 0.9930\n",
      "Epoch 9/200\n",
      "210/210 [==============================] - 86s 412ms/step - loss: 0.0606 - acc: 0.9852 - val_loss: 0.0211 - val_acc: 0.9948\n",
      "Epoch 10/200\n",
      "210/210 [==============================] - 51s 243ms/step - loss: 0.0562 - acc: 0.9851 - val_loss: 0.0279 - val_acc: 0.9937\n",
      "\n",
      "Epoch 00010: ReduceLROnPlateau reducing learning rate to 0.0002500000118743628.\n",
      "Epoch 11/200\n",
      "210/210 [==============================] - 50s 239ms/step - loss: 0.0454 - acc: 0.9877 - val_loss: 0.0203 - val_acc: 0.9953\n",
      "Epoch 12/200\n",
      "210/210 [==============================] - 60s 285ms/step - loss: 0.0451 - acc: 0.9884 - val_loss: 0.0201 - val_acc: 0.9948\n",
      "\n",
      "Epoch 00012: ReduceLROnPlateau reducing learning rate to 0.0001250000059371814.\n",
      "Epoch 13/200\n",
      "210/210 [==============================] - 54s 256ms/step - loss: 0.0378 - acc: 0.9901 - val_loss: 0.0208 - val_acc: 0.9953\n",
      "Epoch 14/200\n",
      "210/210 [==============================] - 65s 311ms/step - loss: 0.0353 - acc: 0.9910 - val_loss: 0.0208 - val_acc: 0.9958\n",
      "Epoch 15/200\n",
      "210/210 [==============================] - 93s 442ms/step - loss: 0.0346 - acc: 0.9904 - val_loss: 0.0230 - val_acc: 0.9947\n",
      "\n",
      "Epoch 00015: ReduceLROnPlateau reducing learning rate to 6.25000029685907e-05.\n",
      "Epoch 16/200\n",
      "210/210 [==============================] - 86s 408ms/step - loss: 0.0339 - acc: 0.9910 - val_loss: 0.0195 - val_acc: 0.9955\n",
      "Epoch 17/200\n",
      "210/210 [==============================] - 78s 372ms/step - loss: 0.0322 - acc: 0.9911 - val_loss: 0.0191 - val_acc: 0.9955\n",
      "\n",
      "Epoch 00017: ReduceLROnPlateau reducing learning rate to 3.125000148429535e-05.\n",
      "Epoch 18/200\n",
      "210/210 [==============================] - 47s 222ms/step - loss: 0.0294 - acc: 0.9916 - val_loss: 0.0192 - val_acc: 0.9958\n",
      "\n",
      "Epoch 00018: ReduceLROnPlateau reducing learning rate to 1.5625000742147677e-05.\n",
      "Epoch 19/200\n",
      "210/210 [==============================] - 45s 212ms/step - loss: 0.0301 - acc: 0.9920 - val_loss: 0.0183 - val_acc: 0.9962TA: 4s - loss: \n",
      "Epoch 20/200\n",
      "210/210 [==============================] - 66s 316ms/step - loss: 0.0306 - acc: 0.9915 - val_loss: 0.0182 - val_acc: 0.9958\n",
      "\n",
      "Epoch 00020: ReduceLROnPlateau reducing learning rate to 1e-05.\n",
      "Epoch 21/200\n",
      "210/210 [==============================] - 45s 213ms/step - loss: 0.0286 - acc: 0.9923 - val_loss: 0.0181 - val_acc: 0.9960- ETA: 0s - loss: 0.0287 - acc: 0.\n",
      "Epoch 22/200\n",
      "210/210 [==============================] - 45s 214ms/step - loss: 0.0313 - acc: 0.9919 - val_loss: 0.0181 - val_acc: 0.9962\n",
      "Epoch 23/200\n",
      "210/210 [==============================] - 72s 345ms/step - loss: 0.0276 - acc: 0.9924 - val_loss: 0.0186 - val_acc: 0.9963\n",
      "Epoch 24/200\n",
      "210/210 [==============================] - 88s 418ms/step - loss: 0.0299 - acc: 0.9921 - val_loss: 0.0186 - val_acc: 0.9962\n",
      "Epoch 25/200\n",
      "210/210 [==============================] - 88s 418ms/step - loss: 0.0325 - acc: 0.9913 - val_loss: 0.0182 - val_acc: 0.9962\n",
      "Epoch 26/200\n",
      "210/210 [==============================] - 88s 418ms/step - loss: 0.0266 - acc: 0.9927 - val_loss: 0.0186 - val_acc: 0.9962\n",
      "Epoch 27/200\n",
      "210/210 [==============================] - 45s 215ms/step - loss: 0.0295 - acc: 0.9920 - val_loss: 0.0183 - val_acc: 0.9963loss: 0\n",
      "Epoch 28/200\n",
      "210/210 [==============================] - 45s 213ms/step - loss: 0.0278 - acc: 0.9924 - val_loss: 0.0185 - val_acc: 0.9960\n",
      "Epoch 29/200\n",
      "210/210 [==============================] - 45s 214ms/step - loss: 0.0296 - acc: 0.9917 - val_loss: 0.0188 - val_acc: 0.9962\n",
      "It took: 1805.24138712883\n"
     ]
    }
   ],
   "source": [
    "start = time.time()\n",
    "epochs = 200\n",
    "batch_size = 256\n",
    "history  = model.fit_generator(\n",
    "    datagen.flow(train_images, train_labels, batch_size = batch_size), \n",
    "    steps_per_epoch = train_images.shape[0] // batch_size, \n",
    "    epochs = epochs,\n",
    "    validation_data = (valid_images, valid_labels),\n",
    "    callbacks=[learning_rate_reduction, early_stopping, model_checkpoint]\n",
    ")\n",
    "\n",
    "print(\"It took:\", time.time() - start)\n"
   ]
  },
  {
   "cell_type": "markdown",
   "metadata": {},
   "source": [
    "### Speichern\n",
    "Ich speichere hier das Modell noch einmal explizit ab, da in meinem Fall das letzte Ergebnis das Beste ist, obwohl sich die Verlustrate nicht gebessert hat."
   ]
  },
  {
   "cell_type": "code",
   "execution_count": 54,
   "metadata": {},
   "outputs": [],
   "source": [
    "# serialize model to JSON\n",
    "model.save('persist_model/final_augmenting_cnn_MNIST_model.h5')"
   ]
  },
  {
   "cell_type": "code",
   "execution_count": 10,
   "metadata": {},
   "outputs": [],
   "source": [
    "# serialize model to JSON\n",
    "model_json = model.to_json()\n",
    "with open(\"persist_model/final_augmenting_cnn_MNIST_model.json\", \"w\") as json_file:\n",
    "    json_file.write(model_json)"
   ]
  },
  {
   "cell_type": "markdown",
   "metadata": {},
   "source": [
    "### Trainingsverlauf interpretieren\n",
    "Man sieht, dass die Kurve hier einen absoluten Lehrbuchcharakter hat. Beide Verläufe schmiegen sich mehr und mehr aneinander an und streben gemeinsam asymptotisch die Horizontale an. Ein mathematisches Happy End :)"
   ]
  },
  {
   "cell_type": "code",
   "execution_count": 56,
   "metadata": {
    "scrolled": false
   },
   "outputs": [
    {
     "data": {
      "image/png": "[encoded data removed]",
      "text/plain": [
       "<Figure size 432x288 with 1 Axes>"
      ]
     },
     "metadata": {},
     "output_type": "display_data"
    },
    {
     "name": "stdout",
     "output_type": "stream",
     "text": [
      "Abb 1: Anstieg der Genauigkeit über die Epochen\n",
      "\n"
     ]
    },
    {
     "data": {
      "image/png": "[encoded data removed]",
      "text/plain": [
       "<Figure size 432x288 with 1 Axes>"
      ]
     },
     "metadata": {},
     "output_type": "display_data"
    },
    {
     "name": "stdout",
     "output_type": "stream",
     "text": [
      "Abb 2: Abnahme des Fehlers über die Epochen\n",
      "\n"
     ]
    }
   ],
   "source": [
    "acc = history.history['acc']\n",
    "val_acc = history.history['val_acc']\n",
    "loss = history.history['loss']\n",
    "val_loss = history.history['val_loss']\n",
    "\n",
    "epochs = range(1, len(acc) + 1)\n",
    "\n",
    "plt.plot(epochs, acc, 'bo', label='Training acc')\n",
    "plt.plot(epochs, val_acc, 'b', label='Validation acc')\n",
    "plt.title('Training and validation accuracy')\n",
    "plt.legend()\n",
    "plt.show()\n",
    "print(\"Abb 1: Anstieg der Genauigkeit über die Epochen\")\n",
    "print(\"\")\n",
    "\n",
    "plt.plot(epochs, loss, 'bo', label='Training loss')\n",
    "plt.plot(epochs, val_loss, 'b', label='Validation loss')\n",
    "plt.title('Training and validation loss')\n",
    "plt.legend()\n",
    "plt.show()\n",
    "print(\"Abb 2: Abnahme des Fehlers über die Epochen\")\n",
    "print(\"\")"
   ]
  },
  {
   "cell_type": "markdown",
   "metadata": {},
   "source": [
    "### Model Testen\n",
    "Für den Test verwende ich wirklich das abgespeicherte Modell um alle Seiteneffekte auszuschließen und um mir sicher zu sein, dass ich das Ergebnis später auch nutzen kann."
   ]
  },
  {
   "cell_type": "code",
   "execution_count": 7,
   "metadata": {
    "scrolled": false
   },
   "outputs": [
    {
     "name": "stdout",
     "output_type": "stream",
     "text": [
      "10000/10000 [==============================] - 5s 526us/step\n",
      "Loss:  0.012790212325054472\n",
      "Accuracy:  0.9964\n"
     ]
    }
   ],
   "source": [
    "main_dir = os.path.normpath(os.getcwd() + os.sep + os.pardir)\n",
    "mod_dir = os.path.join(main_dir,'train_model', 'persist_model')\n",
    "\n",
    "test_model = models.load_model(os.path.join(mod_dir, 'final_augmenting_cnn_MNIST_model.h5'))\n",
    "\n",
    "(test_loss, test_acc) = test_model.evaluate(test_images, test_labels)\n",
    "print(\"Loss: \", test_loss)\n",
    "print(\"Accuracy: \", test_acc)"
   ]
  },
  {
   "cell_type": "markdown",
   "metadata": {},
   "source": [
    "### Fehleranalyse\n",
    "Es gibt eine sehr schöne Grafik, um die Ausreißer lokalisieren zu können: Die __Confusion Matrix__. Nach rechts sind dabei die Ziffern angetragen, die das Modell erkannt hat und nach oben die Ziffern, die das Modell hätte erkennen sollen. Somit ist es Ziel der Übung möglichst alle Werte auf die Diagonale zu treiben und den Rest zu Null zu trimmen.\n",
    "\n",
    "Die Ausreißer habe ich in der Grafik rot markiert. Dadurch springt ins Auge, dass wie zu erwarten die Vier und die Neun den meisten Ärger machen. \n"
   ]
  },
  {
   "cell_type": "code",
   "execution_count": 36,
   "metadata": {},
   "outputs": [
    {
     "data": {
      "image/png": "[encoded data removed]",
      "text/plain": [
       "<Figure size 432x288 with 2 Axes>"
      ]
     },
     "metadata": {},
     "output_type": "display_data"
    },
    {
     "name": "stdout",
     "output_type": "stream",
     "text": [
      "Abb 3: Confusion Matrix\n"
     ]
    }
   ],
   "source": [
    "# Look at confusion matrix \n",
    "#Note, this code is taken straight from the SKLEARN website, an nice way of viewing confusion matrix.\n",
    "def plot_confusion_matrix(confusion_matrix, \n",
    "                          labels,\n",
    "                          title='Confusion matrix',\n",
    "                          cmap=plt.cm.Blues):\n",
    "\n",
    "    plt.imshow(confusion_matrix, interpolation='nearest', cmap=cmap)\n",
    "    plt.title(title)\n",
    "    plt.colorbar()\n",
    "    tick_marks = np.arange(len(labels))\n",
    "    plt.xticks(tick_marks, labels, rotation=45)\n",
    "    plt.yticks(tick_marks, labels)\n",
    "\n",
    "    thresh = confusion_matrix.max() / 2.\n",
    "    for i, j in itertools.product(range(confusion_matrix.shape[0]), range(confusion_matrix.shape[1])):\n",
    "        plt.text(j, i, confusion_matrix[i, j],\n",
    "                 horizontalalignment=\"center\",\n",
    "                 color=\"white\" if confusion_matrix[i, j] > thresh else \"black\",\n",
    "                 bbox = None if confusion_matrix[i , j] == 0 or i == j else dict(boxstyle=\"square\",\n",
    "                   ec=(1., 0.5, 0.5),\n",
    "                   fc=(1., 0.8, 0.8),\n",
    "                   )\n",
    "                 )\n",
    "\n",
    "    plt.tight_layout()\n",
    "    plt.ylabel('True label')\n",
    "    plt.xlabel('Predicted label')\n",
    "\n",
    "# Predict the values from the validation dataset\n",
    "labels_pred = test_model.predict(test_images)\n",
    "# Convert predictions classes to one hot vectors \n",
    "labels_pred = np.argmax(labels_pred, axis = 1) \n",
    "# Convert validation observations to one hot vectors\n",
    "labels_true = np.argmax(test_labels, axis = 1) \n",
    "# compute the confusion matrix\n",
    "confusion_mtx = confusion_matrix(labels_true, labels_pred) \n",
    "# plot the confusion matrix\n",
    "plot_confusion_matrix(confusion_mtx, labels = range(10))\n",
    "plt.show()\n",
    "print('Abb 3: Confusion Matrix')"
   ]
  },
  {
   "cell_type": "markdown",
   "metadata": {},
   "source": [
    "Hier sind alle falsch erkannten Vier - Neun Kombinationen zu sehen"
   ]
  },
  {
   "cell_type": "code",
   "execution_count": 63,
   "metadata": {},
   "outputs": [
    {
     "name": "stdout",
     "output_type": "stream",
     "text": [
      "36 von 10000 wurden falsch erkannt.\n"
     ]
    },
    {
     "data": {
      "image/png": "[encoded data removed]",
      "text/plain": [
       "<Figure size 720x720 with 9 Axes>"
      ]
     },
     "metadata": {},
     "output_type": "display_data"
    },
    {
     "name": "stdout",
     "output_type": "stream",
     "text": [
      "Abb 4: Schwierigkeiten zwischen 4 und 9\n"
     ]
    }
   ],
   "source": [
    "examples = []\n",
    "wrong = 0\n",
    "\n",
    "for index, pred in enumerate(labels_pred):\n",
    "    real = labels_true[index]\n",
    "    \n",
    "    if pred != real:\n",
    "        wrong += 1\n",
    "    \n",
    "    if pred in (4,9):\n",
    "        if real in (4,9) and real != pred:\n",
    "            examples.append((real, pred, test_images[index]))\n",
    "\n",
    "print('{} von {} wurden falsch erkannt.'.format(wrong, len(labels_pred)))\n",
    "fig = plt.figure(figsize=(10, 10))\n",
    "\n",
    "for index, (real, pred, image) in enumerate(examples):\n",
    "        ax = fig.add_subplot(1, len(examples), index + 1)\n",
    "        ax.axis('off')\n",
    "        ax.title.set_text('pred = {}\\nreal = {}'.format(pred,real))\n",
    "        ax.imshow(image.reshape(28, 28), cmap=plt.get_cmap('gray'))\n",
    "plt.show()\n",
    "print('Abb 4: Schwierigkeiten zwischen 4 und 9')"
   ]
  },
  {
   "cell_type": "markdown",
   "metadata": {},
   "source": [
    "## Schluss\n",
    "\n",
    "Es gibt nun noch zwei Werkzeuge / Techniken, mit denen man das Ergebnis noch verbessern könnte. Das eine ist ein Tool zum automatischen und systematischen justieren der Metaparameter, damit man eine möglichst optimale Konfiguration der Metaparameter erhält. Zum Anderen kann man ein ganzes Ensemble von Modellen trainieren und deren Ergebnisse gemeinsam nutzen. Beides braucht naturgemäß während des Trainings extrem viel Rechenzeit, dennoch kann ein wirklich ausgereiftes und produktiv genutztes Modell nicht darauf verzichten. Bei unserem Modell würden wir sicherlich die letzten beiden Vieren aus der obigen Abbildung noch richtig erkannt bekommen und könnten somit in einen produktiven Betrieb gehen. \n",
    "\n",
    "Nichts desto trotz ist das Ergebnis schon sehr zufriedenstellend, wenn man bedenkt, dass von 10.000 Ziffern nur 36 falsch erkannt wurden und dass unter diesen 36 auch noch Ziffern sind, die man nicht richtig erkennen kann, wie zum Beispiel die zweite, dritte und vierte Ziffer aus dem obigen Beispiel."
   ]
  },
  {
   "cell_type": "markdown",
   "metadata": {},
   "source": [
    "# SCHLAGWÖRTER\n",
    "CNN, Convolution, KI, AI, ML, Keras, TensorFlow, DNN, Deep Learning, Neuronale Netze, Tutorial, MNIST, Dens Layer, Conv2D, Maschinelles Sehen, #KI-Werkbank\n",
    "\n",
    "# BESCHREIBUNG\n",
    "Wie kann man mit einfachsten Mitteln zu den Top MNIST Modellen kommen.\n",
    "\n",
    "# KATEGORIEN\n",
    "Architektur, BI & DWH, Blog, Business Intelligence, KI"
   ]
  }
 ],
 "metadata": {
  "kernelspec": {
   "display_name": "Python 3",
   "language": "python",
   "name": "python3"
  },
  "language_info": {
   "codemirror_mode": {
    "name": "ipython",
    "version": 3
   },
   "file_extension": ".py",
   "mimetype": "text/x-python",
   "name": "python",
   "nbconvert_exporter": "python",
   "pygments_lexer": "ipython3",
   "version": "3.6.5"
  }
 },
 "nbformat": 4,
 "nbformat_minor": 2
}
