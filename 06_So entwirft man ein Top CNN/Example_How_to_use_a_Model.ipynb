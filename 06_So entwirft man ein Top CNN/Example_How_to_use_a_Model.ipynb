{
 "cells": [
  {
   "cell_type": "markdown",
   "metadata": {},
   "source": [
    "# Wie lädt und nutzt man ein fertiges Model?"
   ]
  },
  {
   "cell_type": "markdown",
   "metadata": {},
   "source": [
    "## Nötige Imports"
   ]
  },
  {
   "cell_type": "code",
   "execution_count": 1,
   "metadata": {},
   "outputs": [
    {
     "name": "stderr",
     "output_type": "stream",
     "text": [
      "Using TensorFlow backend.\n"
     ]
    }
   ],
   "source": [
    "#keras\n",
    "from keras.models import load_model\n",
    "from keras.datasets import mnist\n",
    "\n",
    "#numpy\n",
    "import numpy as np\n",
    "\n",
    "#matplotlib\n",
    "%matplotlib inline\n",
    "import matplotlib.pyplot as plt\n",
    "\n",
    "#os\n",
    "import os"
   ]
  },
  {
   "cell_type": "markdown",
   "metadata": {},
   "source": [
    "## Das Model laden"
   ]
  },
  {
   "cell_type": "code",
   "execution_count": 2,
   "metadata": {},
   "outputs": [],
   "source": [
    "main_dir = os.path.normpath(os.getcwd() + os.sep + os.pardir)\n",
    "model_file = os.path.join(main_dir,'train_model', 'persist_model', 'final_augmenting_cnn_MNIST_model.h5')\n",
    "\n",
    "model = load_model(model_file)"
   ]
  },
  {
   "cell_type": "markdown",
   "metadata": {},
   "source": [
    "## Einige Testdaten laden um was zum Spielen zu haben"
   ]
  },
  {
   "cell_type": "code",
   "execution_count": 3,
   "metadata": {},
   "outputs": [],
   "source": [
    "(_, _), (test_images_raw, test_labels) = mnist.load_data()\n",
    "# shape must be (28, 28, 1)\n",
    "test_images = test_images_raw.reshape((test_images_raw.shape[0], 28, 28, 1))\n",
    "#255 different gray scales must be scaled between [0,1]\n",
    "test_images = test_images.astype('float32') / 255 \n",
    "#just the first fife to demonstarte the work ofthe model \n",
    "test_images = test_images[:5]"
   ]
  },
  {
   "cell_type": "markdown",
   "metadata": {},
   "source": [
    "## Ein Beispiel, wie man das Model befragt\n",
    "results ist ein Vector der länge 10. Die erkannte Ziffer ist die position mit dem größten wert. Also zum Beispiel ```results[0].argmax()```"
   ]
  },
  {
   "cell_type": "code",
   "execution_count": 4,
   "metadata": {},
   "outputs": [],
   "source": [
    "results = model.predict(test_images)"
   ]
  },
  {
   "cell_type": "markdown",
   "metadata": {},
   "source": [
    "# Ein wenig mit dem Ergebnis herumspielen"
   ]
  },
  {
   "cell_type": "code",
   "execution_count": 5,
   "metadata": {},
   "outputs": [
    {
     "data": {
      "image/png": "[encoded data removed]",
      "text/plain": [
       "<Figure size 432x288 with 5 Axes>"
      ]
     },
     "metadata": {},
     "output_type": "display_data"
    }
   ],
   "source": [
    "count = 0\n",
    "for index, result in enumerate(results):\n",
    "    predict = result.argmax()\n",
    "    expect = test_labels[index]\n",
    "    plt.subplot(1,5,index+1)\n",
    "    plt.title(\"Pred: {}\".format(predict))\n",
    "    plt.axis('off')\n",
    "    plt.imshow(test_images_raw[index])\n",
    "plt.show()\n"
   ]
  }
 ],
 "metadata": {
  "kernelspec": {
   "display_name": "Python 3",
   "language": "python",
   "name": "python3"
  },
  "language_info": {
   "codemirror_mode": {
    "name": "ipython",
    "version": 3
   },
   "file_extension": ".py",
   "mimetype": "text/x-python",
   "name": "python",
   "nbconvert_exporter": "python",
   "pygments_lexer": "ipython3",
   "version": "3.6.5"
  }
 },
 "nbformat": 4,
 "nbformat_minor": 2
}
