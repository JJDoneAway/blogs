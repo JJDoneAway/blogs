{
 "cells": [
  {
   "cell_type": "markdown",
   "metadata": {},
   "source": [
    "# KI-Werkbank\n",
    "# Augmentieren bei Neuronale Netze mit Keras\n",
    "\n",
    "## Worum geht es hier?\n",
    "In diesem kleinen Blog möchte ich zeigen, warum man Bilder augmentieren sollte, und wie man das in Keras macht.\n",
    "\n",
    "## Warum Augmentieren und was ist das eigentlich?\n",
    "Neuronale Netze brauchen für ihr Training sehr viele Samples. Hätten man unendlich viele Samples, könnten man sich in die Beste aller Lösungen hineindrehen und alle wären glücklich. Wir haben aber leider nicht unendlich viele Daten, wir haben eigentlich immer eher zu wenige als zu viele. Was nun?\n",
    "\n",
    "Der erste extrem simple Trick mit dieser Tatsache umzugehen, ist sicherlich die Daten über so viele Trainingsepochen wiederzuverwenden, bis sie komplett ausgereizt sind. Das entspricht quasi dem Entsaften einer Orange, die man ja auch solange auf den Entsafter - Kopf drückt, bis das ganz Fruchtfleisch seinen Saft hergegeben hat. Hätte man unendlich viele Orangen, bräuchte man das auch nicht, sondern könnte auf jede Hälfte nur einmal kurz draufdrücken.\n",
    "\n",
    "Man erkennt die Grenze dieses Verfahrens am Overfitting. Der Hypothesenraum schnürt sich dabei immer enger um die Testdaten und wird zunehmend intoleranter gegen Daten, die nicht in der Testmenge sind. Somit ist das Overfitting der Feind, an dem wir uns abkämpfen müssen, wenn wir nicht auf die Epochen verzichten wollen. \n",
    "\n",
    "Für Bilder gibt es ein sehr schönes Mittel, um den „death by overfitting“ ein wenig hinauszuschieben: Man verändert die Bilder permanent ein wenig, indem man sie hin und her dreht, spiegelt, verzerrt oder die Farben abändert. Dabei dreht man die maximale Veränderung solange auf, solange man die eigentliche Information auf dem Bild noch gut erkennen kann. Das neuronale Netz sieht dann ein Bild, das seinem Original zwar ähnelt aber eben nicht ganz gleich ist. Dieses Verfahren nennt man __Augmentieren__.\n"
   ]
  },
  {
   "cell_type": "markdown",
   "metadata": {},
   "source": [
    "## Wie macht Keras das?\n",
    "Da man mit diesem Konzept im Prinzip unendlich viele Bilder erzeugen kann, wäre es ungesund diese im Speicher vorzuhalten. Deshalb nutz Keras das quasi reaktive Python Pattern der [_Generatoren_](https://wiki.python.org/moin/Generators): Das Bild wird erst „erzeugt“, wenn es der Konsument auch wirklich braucht. Dadurch wird der Speicherverbrauch minimiert, was natürlich ein wenig zu Lasten der Performance geht. \n",
    "\n",
    "Keras schreibt das sehr schön hin, dennoch ändert sich die Darreichung der Samples an das Netz. Somit möchte ich diesen Teil hier einmal isoliert betrachten, bevor ich alles in einem nächsten Blog zusammensetzte.\n"
   ]
  },
  {
   "cell_type": "markdown",
   "metadata": {},
   "source": [
    "## Welche Schritte sind nötig?\n",
    "\n",
    "### Boiler Plate"
   ]
  },
  {
   "cell_type": "code",
   "execution_count": 1,
   "metadata": {
    "scrolled": true
   },
   "outputs": [
    {
     "name": "stderr",
     "output_type": "stream",
     "text": [
      "Using TensorFlow backend.\n"
     ]
    }
   ],
   "source": [
    "#keras\n",
    "from keras.preprocessing.image import ImageDataGenerator\n",
    "from keras.datasets import mnist\n",
    "\n",
    "#numpy\n",
    "import numpy as np\n",
    "\n",
    "#matplotlib\n",
    "%matplotlib inline\n",
    "import matplotlib.pyplot as plt"
   ]
  },
  {
   "cell_type": "markdown",
   "metadata": {},
   "source": [
    "### Daten besorgen\n",
    "In diesem Beispiel brauche ich nur einige wenige Bilder handschriftlicher Ziffern. Somit schmeiße ich den Großteil einfach weg und behalte nur fünf Stück."
   ]
  },
  {
   "cell_type": "code",
   "execution_count": 2,
   "metadata": {
    "scrolled": true
   },
   "outputs": [],
   "source": [
    "#keras / tensorflow has already the full MNIST dataset\n",
    "(train_images_raw, train_labels_raw), (_temp_a, _temp_b) = mnist.load_data()\n",
    "\n",
    "def shrink(array, amount = 5):\n",
    "    return array[:amount]\n",
    "\n",
    "train_images_raw = shrink(train_images_raw)\n",
    "train_labels_raw = shrink(train_labels_raw)    "
   ]
  },
  {
   "cell_type": "markdown",
   "metadata": {},
   "source": [
    "### Reshape\n",
    "Keras braucht für Bilder ja bekanntlich einen 4D Tensor (1. Dimension für das Sample, 2. & 3. Dimension für die Pixelposition, 4 Dimension für die Farbwerte der Pixel).\n",
    "\n",
    "Zudem konvertiere ich die integer der Grauwerte in _float32_, um sie in den Wertebereich von Null bis Eins normieren zu können. Eigentlich kann das der `ImageDataGenerator`, den ich gleich für das Augmentieren verwende auch gleich mit übernehmen, ich möchte das Beispiel aber nicht überladen."
   ]
  },
  {
   "cell_type": "code",
   "execution_count": 3,
   "metadata": {},
   "outputs": [],
   "source": [
    "train_images = train_images_raw.reshape((train_images_raw.shape[0], 28, 28, 1))\n",
    "train_images = train_images.astype('float32') / 255"
   ]
  },
  {
   "cell_type": "markdown",
   "metadata": {},
   "source": [
    "### Ein letzter Blick auf die Originale\n",
    "Damit man die Wirkungsweise des Augmentierens besser beurteilen kann, zeichne ich die fünf Original noch einmal auf."
   ]
  },
  {
   "cell_type": "code",
   "execution_count": 4,
   "metadata": {},
   "outputs": [
    {
     "name": "stdout",
     "output_type": "stream",
     "text": [
      "Original samples:\n"
     ]
    },
    {
     "data": {
      "image/png": "[encoded data removed]",
      "text/plain": [
       "<Figure size 432x288 with 5 Axes>"
      ]
     },
     "metadata": {},
     "output_type": "display_data"
    }
   ],
   "source": [
    "print(\"Original samples:\")\n",
    "for index, image in enumerate(train_images):\n",
    "        plt.subplot(150 + 1 + index)\n",
    "        plt.title(train_labels_raw[index])\n",
    "        plt.imshow(image.reshape(28, 28), cmap=plt.get_cmap('gray'))\n",
    "        plt.axis('off')\n",
    "plt.show()"
   ]
  },
  {
   "cell_type": "markdown",
   "metadata": {},
   "source": [
    "### Den Generator zusammenbauen\n",
    "Keras stellt für das Augmentieren von Bildern die Klasse `ImageDataGenerator` zur Verfügung. Sie verfügt über eine große Menge von unterschiedlichen Konfigurationsparametern, von denen ich hier nur die Wichtigsten zeige. Mit den Codeschnipseln und der [`ImageDataGenerator` Doku](https://keras.io/preprocessing/image/#imagedatagenerator-class) kannst Du die anderen aber einfach untersuchen. "
   ]
  },
  {
   "cell_type": "code",
   "execution_count": 12,
   "metadata": {
    "scrolled": false
   },
   "outputs": [],
   "source": [
    "# define data preparation\n",
    "datagen = ImageDataGenerator(\n",
    "    # Wieviel Grad [0, 180] darf sich das Bild hin und her drehen\n",
    "    rotation_range = 15, \n",
    "    # Um wieviel darf das Bild nach links und rechts bewegt werden\n",
    "    width_shift_range=0.1, \n",
    "    # Um wieviel darf das Bild nach Oben und Unten bewegt werden\n",
    "    height_shift_range=0.2, \n",
    "    # Die Varianz von dunkel zu hell \n",
    "    brightness_range = (0.1, 2), \n",
    "    # In welchem Bereich darf das Bild abgeschert werden\n",
    "    shear_range = 0.3, \n",
    "    # In welchem Bereich dar das Bild die größe ändern\n",
    "    zoom_range = 0.3, \n",
    "    # Bei Zahlen sollte man auf das Spiegeln eher verzichten :)\n",
    "    horizontal_flip = False, \n",
    "    # Bei Zahlen sollte man auf das Spiegeln eher verzichten :)\n",
    "    vertical_flip = False)"
   ]
  },
  {
   "cell_type": "markdown",
   "metadata": {},
   "source": [
    "### Fitting der Daten\n",
    "Manche Konfigurationen benötigen ein Preprocessing, bevor der Generator die Bilder fließen lassen kann. Speziell, wenn man die Daten ebne nicht von Hand normalisiert, wie ich das oben getan habe, oder wenn man über ein ZCA Whitening die Bilderfarbwerte untereinander normalisieren möchte. Ich brauche dieses Fitting hier eigentlich nicht, da man es aber nachher schnell mal vergisst und es nicht weh tut, wenn man es aufruft, tue ich es hier."
   ]
  },
  {
   "cell_type": "code",
   "execution_count": 6,
   "metadata": {},
   "outputs": [],
   "source": [
    "datagen.fit(train_images)"
   ]
  },
  {
   "cell_type": "markdown",
   "metadata": {},
   "source": [
    "### Die Daten fließen lassen\n",
    "Über die Methode `flow` kann man nun einen unendlichen Strom an Daten vom `ImageDataGenerator` anstoßen. Die Methode hat einige Parameter, über die man das Default – Verhalten des Generators verändern kann, ich denke aber, dass man eigentlich nur die `batch_size` von Hand setzen sollte. Dieser Parameter gibt an, wie viele Bilder in einem Schwung geliefert werden sollen. (_Diese Größe muss man später beim Trainieren des Modells kennen um die Blockgröße der Samples pro Epoche einstellen zu können._) \n",
    "\n",
    "Die wirklich wichtigen Daten sind natürlich die __Training Samples__ und die __Training Labels__, sonst gäbe es ja nichts, was man fließen lassen könnte."
   ]
  },
  {
   "cell_type": "code",
   "execution_count": 13,
   "metadata": {},
   "outputs": [],
   "source": [
    "sample_iterator = datagen.flow(train_images, train_labels_raw, batch_size=5)"
   ]
  },
  {
   "cell_type": "markdown",
   "metadata": {},
   "source": [
    "### Einige Beispiele \n",
    "Mit jedem Aufruf des Iterators wird nun eine _batch_ von fünf Bildern geliefert, da ich das ja über den Paramater `batch_size` gerade so angefordert habe. Der Iterator arbeitet wirklich solange, bis man ihn mit Gewalt davon abhält. Somit steige ich hart aus der _for_ Schleife aus, wenn ich sechs Mal durch bin."
   ]
  },
  {
   "cell_type": "code",
   "execution_count": 14,
   "metadata": {},
   "outputs": [
    {
     "name": "stdout",
     "output_type": "stream",
     "text": [
      "Iteration 0 of augmentation:\n"
     ]
    },
    {
     "data": {
      "image/png": "[encoded data removed]",
      "text/plain": [
       "<Figure size 432x288 with 5 Axes>"
      ]
     },
     "metadata": {},
     "output_type": "display_data"
    },
    {
     "name": "stdout",
     "output_type": "stream",
     "text": [
      "Iteration 1 of augmentation:\n"
     ]
    },
    {
     "data": {
      "image/png": "[encoded data removed]",
      "text/plain": [
       "<Figure size 432x288 with 5 Axes>"
      ]
     },
     "metadata": {},
     "output_type": "display_data"
    },
    {
     "name": "stdout",
     "output_type": "stream",
     "text": [
      "Iteration 2 of augmentation:\n"
     ]
    },
    {
     "data": {
      "image/png": "[encoded data removed]",
      "text/plain": [
       "<Figure size 432x288 with 5 Axes>"
      ]
     },
     "metadata": {},
     "output_type": "display_data"
    },
    {
     "name": "stdout",
     "output_type": "stream",
     "text": [
      "Iteration 3 of augmentation:\n"
     ]
    },
    {
     "data": {
      "image/png": "[encoded data removed]",
      "text/plain": [
       "<Figure size 432x288 with 5 Axes>"
      ]
     },
     "metadata": {},
     "output_type": "display_data"
    },
    {
     "name": "stdout",
     "output_type": "stream",
     "text": [
      "Iteration 4 of augmentation:\n"
     ]
    },
    {
     "data": {
      "image/png": "[encoded data removed]",
      "text/plain": [
       "<Figure size 432x288 with 5 Axes>"
      ]
     },
     "metadata": {},
     "output_type": "display_data"
    },
    {
     "name": "stdout",
     "output_type": "stream",
     "text": [
      "Iteration 5 of augmentation:\n"
     ]
    },
    {
     "data": {
      "image/png": "[encoded data removed]",
      "text/plain": [
       "<Figure size 432x288 with 5 Axes>"
      ]
     },
     "metadata": {},
     "output_type": "display_data"
    }
   ],
   "source": [
    "count = 0\n",
    "for image_batch, label_batch in sample_iterator:\n",
    "    print(\"Iteration {} of augmentation:\".format(count))\n",
    "    for i in range(0, 5):\n",
    "        plt.subplot(150 + 1 + i)\n",
    "        plt.title(label_batch[i].argmax())\n",
    "        plt.imshow(image_batch[i].reshape(28, 28), cmap=plt.get_cmap('gray'))\n",
    "        plt.axis('off')\n",
    "    plt.show()\n",
    "    count += 1\n",
    "    if count == 6:\n",
    "        break\n"
   ]
  },
  {
   "cell_type": "markdown",
   "metadata": {},
   "source": [
    "Man erkennt deutlich, wie die Ziffern von Zeile zu Zeile ein wenig anders gezeichnet werden."
   ]
  },
  {
   "cell_type": "markdown",
   "metadata": {},
   "source": [
    "## Schluss\n",
    "Mit diesem Blog habe ich das Featur des Augmentierens herausgezogen, um es dediziert und isoliert untersuchen zu können. In meinem nächsten Blog werde ich alles in einem einzigen großen Beispiel zusammenbauen um zu zeigen, dass man leicht über die 99,5% Genauigkeit kommen kann (Hangover 😉)."
   ]
  },
  {
   "cell_type": "markdown",
   "metadata": {},
   "source": [
    "# SCHLAGWÖRTER\n",
    "CNN, Augmentation, ImageDataGenerator, KI, AI, ML, Keras, TensorFlow, DNN, Deep Learning, Neuronale Netze, Tutorial, MNIST, Maschinelles Sehen, #KI-Werkbank\n",
    "\n",
    "# BESCHREIBUNG\n",
    "Ich zeige, wie man den Keras ImageDataGenerator in seine \"KI Werkbank\" einspannt um sie in das Augmentieren von Bildern einzuarbeiten.\n",
    "\n",
    "# KATEGORIEN\n",
    "Architektur, BI & DWH, Blog, Business Intelligence, KI"
   ]
  }
 ],
 "metadata": {
  "kernelspec": {
   "display_name": "Python 3",
   "language": "python",
   "name": "python3"
  },
  "language_info": {
   "codemirror_mode": {
    "name": "ipython",
    "version": 3
   },
   "file_extension": ".py",
   "mimetype": "text/x-python",
   "name": "python",
   "nbconvert_exporter": "python",
   "pygments_lexer": "ipython3",
   "version": "3.6.5"
  }
 },
 "nbformat": 4,
 "nbformat_minor": 2
}
