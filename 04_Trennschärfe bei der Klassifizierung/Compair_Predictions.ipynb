{
 "cells": [
  {
   "cell_type": "markdown",
   "metadata": {},
   "source": [
    "# #KI-Werkbank\n",
    "# Trennschärfe bei der Klassifizierung \n",
    "\n",
    "## Worum es hier geht\n",
    "Ich habe in meinen letzten Blogs [Einstieg in neuronale Netze mit Keras](https://www.mt-ag.com/2018/11/14/einstieg-in-neuronale-netze-mit-keras/) zwei verschiedene Architekturen neuronaler Netzte auf die Sammlung handschriftlicher Ziffern von MNIST losgelassen. Ich möchte hier in diesem Mini Blog einen interessanten Unterschied im Ergebnis der beiden Modelle aufzeigen, nämlich die Trennschärfe\n",
    "## Was ist die Trennschärfe einer Klassifikation?\n",
    "Mit der Trennschärfe möchte ich ein Maß dafür dafür definieren, wie sicher sich ein neuronales Netz bei seinen Entscheidungen ist. Ich wir brauchen so ein Qualitätskriterium, um Netze miteinander vergleichen zu können. \n",
    "\n",
    "Ich lade dazu die beiden Modelle aus den letzten Versuchen ein und vergleiche sie miteinander um ein griffiges Maß für die Trennschärfe abzuleiten.\n",
    "\n",
    "Neuronalen Netze sagen ihrer Antwort nicht so: „Du hast mir eine Zwei gezeigt“ sondern sie sagen: „Mit einer Wahrscheinlichkeit von 1% ist es eine Null, mit einer Wahrscheinlichkeit von 4% ist es eine Eins, mit einer Wahrscheinlichkeit von 91% ist es eine Zwei, mit …“. Oft ist sich das Modell nicht ganz sicher, um was es sich bei der Zahl handelt. Dann kann der Maximalwert vielleicht auch nur 21% sein. "
   ]
  },
  {
   "cell_type": "markdown",
   "metadata": {},
   "source": [
    "## Boilerplate Code"
   ]
  },
  {
   "cell_type": "code",
   "execution_count": 35,
   "metadata": {},
   "outputs": [],
   "source": [
    "#tensorflow\n",
    "import tensorflow as tf\n",
    "from tensorflow.python.client import device_lib\n",
    "\n",
    "#keras\n",
    "import keras\n",
    "from keras.backend.tensorflow_backend import set_session\n",
    "from keras.datasets import mnist\n",
    "from keras import models\n",
    "from keras.models import model_from_json\n",
    "\n",
    "#numpy\n",
    "import numpy as np\n",
    "\n",
    "#matplotlib\n",
    "%matplotlib inline\n",
    "import matplotlib.pyplot as plt\n",
    "\n",
    "#os\n",
    "import os\n",
    "\n",
    "config = tf.ConfigProto()\n",
    "config.gpu_options.allow_growth = True  # dynamically grow the memory used on the GPU\n",
    "config.log_device_placement = True  # to log device placement (on which device the operation ran)\n",
    "                                    # (nothing gets printed in Jupyter, only if you run it standalone)\n",
    "sess = tf.Session(config=config)\n",
    "\n",
    "set_session(sess)"
   ]
  },
  {
   "cell_type": "markdown",
   "metadata": {},
   "source": [
    "## Die trainierten Modelle laden"
   ]
  },
  {
   "cell_type": "code",
   "execution_count": 91,
   "metadata": {},
   "outputs": [
    {
     "name": "stdout",
     "output_type": "stream",
     "text": [
      "_________________________________________________________________\n",
      "Layer (type)                 Output Shape              Param #   \n",
      "=================================================================\n",
      "reshape_1 (Reshape)          (None, 784)               0         \n",
      "_________________________________________________________________\n",
      "dense_1 (Dense)              (None, 324)               254340    \n",
      "_________________________________________________________________\n",
      "dense_2 (Dense)              (None, 36)                11700     \n",
      "_________________________________________________________________\n",
      "dense_3 (Dense)              (None, 10)                370       \n",
      "=================================================================\n",
      "Total params: 266,410\n",
      "Trainable params: 266,410\n",
      "Non-trainable params: 0\n",
      "_________________________________________________________________\n",
      "_________________________________________________________________\n",
      "Layer (type)                 Output Shape              Param #   \n",
      "=================================================================\n",
      "conv2d_17 (Conv2D)           (None, 28, 28, 32)        320       \n",
      "_________________________________________________________________\n",
      "max_pooling2d_7 (MaxPooling2 (None, 14, 14, 32)        0         \n",
      "_________________________________________________________________\n",
      "conv2d_18 (Conv2D)           (None, 14, 14, 32)        9248      \n",
      "_________________________________________________________________\n",
      "max_pooling2d_8 (MaxPooling2 (None, 7, 7, 32)          0         \n",
      "_________________________________________________________________\n",
      "conv2d_19 (Conv2D)           (None, 7, 7, 32)          9248      \n",
      "_________________________________________________________________\n",
      "max_pooling2d_9 (MaxPooling2 (None, 3, 3, 32)          0         \n",
      "_________________________________________________________________\n",
      "conv2d_20 (Conv2D)           (None, 3, 3, 16)          4624      \n",
      "_________________________________________________________________\n",
      "dropout_11 (Dropout)         (None, 3, 3, 16)          0         \n",
      "_________________________________________________________________\n",
      "flatten_5 (Flatten)          (None, 144)               0         \n",
      "_________________________________________________________________\n",
      "dropout_12 (Dropout)         (None, 144)               0         \n",
      "_________________________________________________________________\n",
      "dense_9 (Dense)              (None, 128)               18560     \n",
      "_________________________________________________________________\n",
      "dropout_13 (Dropout)         (None, 128)               0         \n",
      "_________________________________________________________________\n",
      "dense_10 (Dense)             (None, 10)                1290      \n",
      "=================================================================\n",
      "Total params: 43,290\n",
      "Trainable params: 43,290\n",
      "Non-trainable params: 0\n",
      "_________________________________________________________________\n"
     ]
    }
   ],
   "source": [
    "main_dir = os.path.normpath(os.getcwd() + os.sep + os.pardir)\n",
    "mod_dir = os.path.join(main_dir,'train_model', 'persist_model')\n",
    "\n",
    "\n",
    "def get_model(model_file, model_weights):\n",
    "    # load json and create model\n",
    "    with open(model_file, 'r', encoding='utf-8') as json_file:\n",
    "        loaded_model_json = json_file.read()\n",
    "\n",
    "    model = model_from_json(loaded_model_json)\n",
    "    # load weights into new model\n",
    "    model.load_weights(model_weights)\n",
    "    model.compile(optimizer='rmsprop', loss='categorical_crossentropy', metrics=['accuracy'])\n",
    "    model.summary()\n",
    "    return model\n",
    "\n",
    "simple_model = get_model(os.path.join(mod_dir, 'simple_MNIST_model.json'), os.path.join(mod_dir, 'simple_MNIST_model.h5'))\n",
    "cnn_model = get_model(os.path.join(mod_dir, 'convolutional_MNIST_model.json'), os.path.join(mod_dir, 'convolutional_MNIST_model.h5'))"
   ]
  },
  {
   "cell_type": "markdown",
   "metadata": {},
   "source": [
    "## Die Testdaten laden und die Modelle befragen"
   ]
  },
  {
   "cell_type": "code",
   "execution_count": 92,
   "metadata": {},
   "outputs": [],
   "source": [
    "(train_images, train_labels), (test_images, test_labels) = mnist.load_data()\n",
    "simple_results = simple_model.predict(test_images)\n",
    "cnn_results = cnn_model.predict(test_images.reshape((10000, 28, 28, 1)).astype('float32') / 255)"
   ]
  },
  {
   "cell_type": "markdown",
   "metadata": {},
   "source": [
    "## Wie eindeutig sind die Ergebnisse\n",
    "Zuerst werde ich einen naiven Blick auf die Histogramme der beiden Modelle, getrennt nach richtigen und falschen Vorhersagen. "
   ]
  },
  {
   "cell_type": "code",
   "execution_count": 155,
   "metadata": {
    "scrolled": false
   },
   "outputs": [
    {
     "data": {
      "image/png": "[encoded data removed]",
      "text/plain": [
       "<Figure size 1080x216 with 3 Axes>"
      ]
     },
     "metadata": {},
     "output_type": "display_data"
    },
    {
     "name": "stdout",
     "output_type": "stream",
     "text": [
      "Abb 1: Trennschärfe der Vorhersage bei einem Fully Connected Neuron Network\n"
     ]
    },
    {
     "data": {
      "image/png": "[encoded data removed]",
      "text/plain": [
       "<Figure size 1080x216 with 3 Axes>"
      ]
     },
     "metadata": {},
     "output_type": "display_data"
    },
    {
     "name": "stdout",
     "output_type": "stream",
     "text": [
      "Abb 2: Trennschärfe der Vorhersage bei einem Convolutional Neuron Network\n"
     ]
    }
   ],
   "source": [
    "def show_hist(results, decs):\n",
    "    _x = []\n",
    "    _x_wrong = []\n",
    "    for index, result in enumerate(results):\n",
    "        predict = result.argmax()\n",
    "        expect = test_labels[index]\n",
    "        if predict == expect:\n",
    "            _x.append(np.amax(result))\n",
    "        else:\n",
    "            _x_wrong.append(np.amax(result))\n",
    "    x = np.array(_x)\n",
    "    x_wrong = np.array(_x_wrong)\n",
    "\n",
    "    fig, axes = plt.subplots(nrows = 1 , ncols = 3, figsize=(15, 3))\n",
    "    ax0, ax1, ax2 = axes.flatten()\n",
    "\n",
    "    ax0.hist(x * 100, facecolor='g')\n",
    "    ax0.set_title('Right Predictions')\n",
    "    ax0.set_xlabel('prediction rate in percent')\n",
    "    ax0.set_ylabel('amount of prediction')\n",
    "    ax0.axis([0, 100, 0, 10000])\n",
    "\n",
    "    ax1.hist(x * 100, facecolor='g')\n",
    "    ax1.set_title('Right Predictions - Zoom')\n",
    "    ax1.set_xlabel('prediction rate in percent')\n",
    "    ax1.set_ylabel('amount of prediction')\n",
    "    ax1.axis([0, 100, 0, 400])\n",
    "\n",
    "    ax2.hist(x_wrong * 100, facecolor='b')\n",
    "    ax2.set_title('Wrong Predictions')\n",
    "    ax2.set_xlabel('prediction rate in percent')\n",
    "    ax2.set_ylabel('amount of prediction')\n",
    "    ax2.axis([0, 100, 0, 80])\n",
    "\n",
    "    fig.tight_layout()\n",
    "    plt.show()    \n",
    "    print(decs)\n",
    "\n",
    "    \n",
    "show_hist(simple_results, \"Abb 1: Trennschärfe der Vorhersage bei einem Fully Connected Neuron Network\")\n",
    "show_hist(cnn_results, \"Abb 2: Trennschärfe der Vorhersage bei einem Convolutional Neuron Network\")"
   ]
  },
  {
   "cell_type": "markdown",
   "metadata": {},
   "source": [
    "Nach rechts ist die Genauigkeit der Vorhersage aufgetragen. Die 100 bedeutet also, dass sich das Modell mit einer Sicherheit von 100% auf eine bestimmte Ziffer festgelegt hat. \n",
    "\n",
    "Nach oben habe ich die totale Anzahl der Vorhersagen aufgetragen. Für das CNN in Abb 2 sieht man zum Beispiel, dass 10.000 Vorhersagen getroffen wurden, bei dem sich das Modell zu 100% sicher war.\n",
    "\n",
    "Beim jeweils zweiten Histogramm habe ich ein wenig in die untere rechte Ecke hineingezoomt, um hervorzuheben, wo die Unschärfen liegen. Man erkennt sehr deutlich, dass sich das CNN mit seinen Vorhersagen viel sicherer ist, als das einfache NN. \n",
    "\n",
    "Beim jeweils dritten Histogramm habe ich das gleiche Spiel für die falsch vorhergesagten Ziffern aufgetragen. Dummerweise ist sich hier das CNN auch viel sicherer mit seiner Vorhersage. \n"
   ]
  },
  {
   "cell_type": "markdown",
   "metadata": {},
   "source": [
    "## Eine eindeutige Maßeinheit\n",
    "\n",
    "Es stellt sich nun die Frage, wie man möglichst griffig die Trennschärfe eines Modells angibt. Ich denke, der einfache Mittelwert minus des kleinsten Mittelwertes auf [0,1] skaliert ist ein gutes Maß dafür und zwar aus folgenden einfachen Gründen:\n",
    "-\tDie Summe aller Wahrscheinlichkeiten pro Vorhersage ist immer 100% \n",
    "-\tIst eine Vorhersage also 100%, sind alle anderen Wahrscheinlichkeiten 0%\n",
    "-\tDie kleinste Vorhersage muss immer ein klein wenig größer als 100 % geteilt durch die Anzahl der Möglichkeiten sein (in unserem Fall 100% / 10 verschiedene Ziffern = 10% plus ein kleines Delta)\n",
    "-\tEine Trennschärfe von 100% heißt dann, dass sich das Modell absolut sicher ist\n",
    "-\tEine Trennschärfe von 0% heißt, dass es alles oder nichts sein kann.\n",
    "\n",
    "Somit ergeben sich für die beiden Modelle folgende Trennschärfen:"
   ]
  },
  {
   "cell_type": "code",
   "execution_count": 167,
   "metadata": {},
   "outputs": [
    {
     "name": "stdout",
     "output_type": "stream",
     "text": [
      "Die Trennschärfe des Fully Connected Neuron Networkfür richtige Vorhersagen ist: 97.33%.\n",
      "\n",
      "Die Trennschärfe des Convolutional Neuron Network für richtige Vorhersagen: 99.69%.\n",
      "\n"
     ]
    }
   ],
   "source": [
    "def show_hist(results, desc):\n",
    "    _x = []\n",
    "    for index, result in enumerate(results):\n",
    "        predict = result.argmax()\n",
    "        expect = test_labels[index]\n",
    "                \n",
    "        if predict == expect:\n",
    "            _x.append(np.amax(result))\n",
    "\n",
    "    \n",
    "    x = np.mean(np.array(_x) * 100 - 100 / 10) * 100 / 90\n",
    "    print(desc.format(x))\n",
    "\n",
    "    \n",
    "show_hist(simple_results, \"Die Trennschärfe des Fully Connected Neuron Networkfür richtige Vorhersagen ist: {:.2f}%.\\n\")\n",
    "show_hist(cnn_results, \"Die Trennschärfe des Convolutional Neuron Network für richtige Vorhersagen: {:.2f}%.\\n\")"
   ]
  },
  {
   "cell_type": "markdown",
   "metadata": {},
   "source": [
    "## Schluss\n",
    "Die Convolutions im CNN haben für den Fully Connecte Teil die Freiheitsgrade stark eingeschränkt. Den Erfolg dieser Übung erkennt man nicht nur in den besseren Testergebnissen, sondern auch in der Trennschärfe. Damit ist er ein wichtiges Maß für die Richtigkeit der gewählten Netzarchitektur. "
   ]
  },
  {
   "cell_type": "markdown",
   "metadata": {},
   "source": [
    "# SCHLAGWÖRTER\n",
    "KI, AI, ML, Keras, TensorFlow, DNN, Deep Learning, Neuronale Netze, Tutorial, MNSIST, Dens Layer, CNN, Convolution\n",
    "\n",
    "# BESCHREIBUNG\n",
    "Ich zeige, wie man eine Aussage über die Trennschärfe einer Vorhersage treffen kann.\n",
    "\n",
    "# KATEGORIEN\n",
    "Architektur, BI & DWH, Blog, Business Intelligence, KI"
   ]
  }
 ],
 "metadata": {
  "kernelspec": {
   "display_name": "Python 3",
   "language": "python",
   "name": "python3"
  },
  "language_info": {
   "codemirror_mode": {
    "name": "ipython",
    "version": 3
   },
   "file_extension": ".py",
   "mimetype": "text/x-python",
   "name": "python",
   "nbconvert_exporter": "python",
   "pygments_lexer": "ipython3",
   "version": "3.6.5"
  }
 },
 "nbformat": 4,
 "nbformat_minor": 2
}
