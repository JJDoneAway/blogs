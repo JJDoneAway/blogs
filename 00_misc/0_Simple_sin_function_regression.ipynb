{
 "cells": [
  {
   "cell_type": "code",
   "execution_count": 1,
   "metadata": {},
   "outputs": [
    {
     "name": "stderr",
     "output_type": "stream",
     "text": [
      "Using TensorFlow backend.\n"
     ]
    }
   ],
   "source": [
    "#tensorflow\n",
    "import tensorflow as tf\n",
    "from tensorflow.python.client import device_lib\n",
    "\n",
    "#keras\n",
    "import keras\n",
    "from keras.backend.tensorflow_backend import set_session\n",
    "from keras import models\n",
    "from keras import layers\n",
    "from keras import regularizers\n",
    "from keras import backend as K\n",
    "from keras.optimizers import RMSprop\n",
    "from keras import callbacks\n",
    "\n",
    "#numpy\n",
    "import numpy as np\n",
    "\n",
    "#matplotlib\n",
    "%matplotlib inline\n",
    "import matplotlib.pyplot as plt\n",
    "\n",
    "import math as math\n",
    "\n",
    "#time\n",
    "import time"
   ]
  },
  {
   "cell_type": "code",
   "execution_count": 2,
   "metadata": {},
   "outputs": [
    {
     "name": "stdout",
     "output_type": "stream",
     "text": [
      "1.10.0\n",
      "2.2.4\n",
      "[name: \"/device:CPU:0\"\n",
      "device_type: \"CPU\"\n",
      "memory_limit: 268435456\n",
      "locality {\n",
      "}\n",
      "incarnation: 16461458747910137466\n",
      ", name: \"/device:GPU:0\"\n",
      "device_type: \"GPU\"\n",
      "memory_limit: 4960052838\n",
      "locality {\n",
      "  bus_id: 1\n",
      "  links {\n",
      "  }\n",
      "}\n",
      "incarnation: 3778726475036629895\n",
      "physical_device_desc: \"device: 0, name: GeForce GTX 1060, pci bus id: 0000:02:00.0, compute capability: 6.1\"\n",
      "]\n"
     ]
    }
   ],
   "source": [
    "config = tf.ConfigProto()\n",
    "# dynamically grow the memory used on the GPU\n",
    "config.gpu_options.allow_growth = True  \n",
    "config.log_device_placement = False\n",
    "sess = tf.Session(config=config)\n",
    "set_session(sess)\n",
    "print(tf.__version__)\n",
    "print(keras.__version__)\n",
    "print(device_lib.list_local_devices())"
   ]
  },
  {
   "cell_type": "code",
   "execution_count": 90,
   "metadata": {},
   "outputs": [],
   "source": [
    "def get_data(amount = 2, start=0):\n",
    "    my_point = np.linspace(start* math.pi, 2*(start + amount) * math.pi, num= (20 * amount * math.pi * 90)//20*20)\n",
    "    \n",
    "    my_classification = np.asarray([math.sin(x) for x in my_point]).astype('float32')\n",
    "    \n",
    "    my_point = my_point.reshape(int(len(my_point)/20) ,20, 1)\n",
    "    my_classification = my_classification.reshape(int(len(my_classification)/20) ,20, 1)\n",
    "    \n",
    "    return (my_point , my_classification)"
   ]
  },
  {
   "cell_type": "code",
   "execution_count": 91,
   "metadata": {},
   "outputs": [
    {
     "name": "stderr",
     "output_type": "stream",
     "text": [
      "C:\\ProgramData\\Anaconda3\\lib\\site-packages\\ipykernel_launcher.py:2: DeprecationWarning: object of type <class 'float'> cannot be safely interpreted as an integer.\n",
      "  \n"
     ]
    }
   ],
   "source": [
    "point,classification = get_data(amount=2)\n"
   ]
  },
  {
   "cell_type": "code",
   "execution_count": 100,
   "metadata": {},
   "outputs": [
    {
     "data": {
      "image/png": "[encoded data removed]",
      "text/plain": [
       "<Figure size 432x288 with 1 Axes>"
      ]
     },
     "metadata": {},
     "output_type": "display_data"
    }
   ],
   "source": [
    "plt.plot(point.reshape(point.shape[0]*point.shape[1]) , classification.reshape(point.shape[0]*point.shape[1]))\n",
    "plt.show()"
   ]
  },
  {
   "cell_type": "code",
   "execution_count": 63,
   "metadata": {},
   "outputs": [
    {
     "name": "stdout",
     "output_type": "stream",
     "text": [
      "(565, 20)\n"
     ]
    }
   ],
   "source": [
    "print(point.shape)"
   ]
  },
  {
   "cell_type": "code",
   "execution_count": 95,
   "metadata": {},
   "outputs": [
    {
     "name": "stdout",
     "output_type": "stream",
     "text": [
      "_________________________________________________________________\n",
      "Layer (type)                 Output Shape              Param #   \n",
      "=================================================================\n",
      "cu_dnnlstm_6 (CuDNNLSTM)     (None, 20, 28)            3472      \n",
      "_________________________________________________________________\n",
      "dropout_7 (Dropout)          (None, 20, 28)            0         \n",
      "_________________________________________________________________\n",
      "cu_dnnlstm_7 (CuDNNLSTM)     (None, 20, 28)            6496      \n",
      "_________________________________________________________________\n",
      "dropout_8 (Dropout)          (None, 20, 28)            0         \n",
      "_________________________________________________________________\n",
      "dense_13 (Dense)             (None, 20, 10)            290       \n",
      "_________________________________________________________________\n",
      "dropout_9 (Dropout)          (None, 20, 10)            0         \n",
      "_________________________________________________________________\n",
      "dense_14 (Dense)             (None, 20, 1)             11        \n",
      "=================================================================\n",
      "Total params: 10,269\n",
      "Trainable params: 10,269\n",
      "Non-trainable params: 0\n",
      "_________________________________________________________________\n"
     ]
    }
   ],
   "source": [
    "model = models.Sequential()\n",
    "model.add(layers.CuDNNLSTM(28, input_shape=(point.shape[1:]), return_sequences=True))\n",
    "model.add(layers.Dropout(0.2))\n",
    "model.add(layers.CuDNNLSTM(28, return_sequences=True))\n",
    "model.add(layers.Dropout(0.2))\n",
    "model.add(layers.Dense(10, activation='sigmoid', input_shape=(1,)))\n",
    "model.add(layers.Dropout(0.2))\n",
    "model.add(layers.Dense(1 , activation=None))\n",
    "model.compile(loss='mean_squared_error', optimizer='SGD', metrics=['mae'])\n",
    "model.summary()"
   ]
  },
  {
   "cell_type": "code",
   "execution_count": 96,
   "metadata": {
    "scrolled": true
   },
   "outputs": [
    {
     "name": "stdout",
     "output_type": "stream",
     "text": [
      "Train on 452 samples, validate on 113 samples\n",
      "Epoch 1/100\n",
      "452/452 [==============================] - 3s 7ms/step - loss: 0.5807 - mean_absolute_error: 0.6226 - val_loss: 0.7535 - val_mean_absolute_error: 0.8217\n",
      "Epoch 2/100\n",
      "452/452 [==============================] - 1s 2ms/step - loss: 0.4980 - mean_absolute_error: 0.6043 - val_loss: 0.9058 - val_mean_absolute_error: 0.9098\n",
      "Epoch 3/100\n",
      "452/452 [==============================] - 1s 2ms/step - loss: 0.4845 - mean_absolute_error: 0.5963 - val_loss: 0.8913 - val_mean_absolute_error: 0.9017\n",
      "Epoch 4/100\n",
      "452/452 [==============================] - 1s 2ms/step - loss: 0.4684 - mean_absolute_error: 0.5896 - val_loss: 1.0100 - val_mean_absolute_error: 0.9653\n",
      "Epoch 5/100\n",
      "452/452 [==============================] - 1s 2ms/step - loss: 0.4708 - mean_absolute_error: 0.5875 - val_loss: 0.8360 - val_mean_absolute_error: 0.8704\n",
      "Epoch 6/100\n",
      "452/452 [==============================] - 1s 2ms/step - loss: 0.4696 - mean_absolute_error: 0.5900 - val_loss: 0.8517 - val_mean_absolute_error: 0.8792\n",
      "Epoch 7/100\n",
      "452/452 [==============================] - 1s 2ms/step - loss: 0.4648 - mean_absolute_error: 0.5865 - val_loss: 0.7869 - val_mean_absolute_error: 0.8415\n",
      "Epoch 8/100\n",
      "452/452 [==============================] - 1s 2ms/step - loss: 0.4529 - mean_absolute_error: 0.5822 - val_loss: 0.8270 - val_mean_absolute_error: 0.8650\n",
      "Epoch 9/100\n",
      "452/452 [==============================] - 1s 2ms/step - loss: 0.4523 - mean_absolute_error: 0.5819 - val_loss: 0.9080 - val_mean_absolute_error: 0.9106\n",
      "Epoch 10/100\n",
      "452/452 [==============================] - 1s 2ms/step - loss: 0.4468 - mean_absolute_error: 0.5775 - val_loss: 0.8499 - val_mean_absolute_error: 0.8780\n",
      "Epoch 11/100\n",
      "452/452 [==============================] - 1s 2ms/step - loss: 0.4498 - mean_absolute_error: 0.5807 - val_loss: 0.7617 - val_mean_absolute_error: 0.8262\n",
      "Epoch 12/100\n",
      "452/452 [==============================] - 1s 2ms/step - loss: 0.4435 - mean_absolute_error: 0.5766 - val_loss: 0.8323 - val_mean_absolute_error: 0.8679\n",
      "Epoch 13/100\n",
      "452/452 [==============================] - 1s 2ms/step - loss: 0.4410 - mean_absolute_error: 0.5736 - val_loss: 0.7587 - val_mean_absolute_error: 0.8244\n",
      "Epoch 14/100\n",
      "452/452 [==============================] - 1s 2ms/step - loss: 0.4440 - mean_absolute_error: 0.5776 - val_loss: 0.7801 - val_mean_absolute_error: 0.8373\n",
      "Epoch 15/100\n",
      "452/452 [==============================] - 1s 2ms/step - loss: 0.4368 - mean_absolute_error: 0.5714 - val_loss: 0.7025 - val_mean_absolute_error: 0.7897\n",
      "Epoch 16/100\n",
      "452/452 [==============================] - 1s 2ms/step - loss: 0.4343 - mean_absolute_error: 0.5724 - val_loss: 0.7575 - val_mean_absolute_error: 0.8239\n",
      "Epoch 17/100\n",
      "452/452 [==============================] - 1s 2ms/step - loss: 0.4344 - mean_absolute_error: 0.5718 - val_loss: 0.7259 - val_mean_absolute_error: 0.8045\n",
      "Epoch 18/100\n",
      "452/452 [==============================] - 1s 2ms/step - loss: 0.4304 - mean_absolute_error: 0.5694 - val_loss: 0.8348 - val_mean_absolute_error: 0.8696\n",
      "Epoch 19/100\n",
      "452/452 [==============================] - 1s 2ms/step - loss: 0.4318 - mean_absolute_error: 0.5686 - val_loss: 0.7254 - val_mean_absolute_error: 0.8042\n",
      "Epoch 20/100\n",
      "452/452 [==============================] - 1s 2ms/step - loss: 0.4284 - mean_absolute_error: 0.5678 - val_loss: 0.7785 - val_mean_absolute_error: 0.8366\n",
      "Epoch 21/100\n",
      "452/452 [==============================] - 1s 2ms/step - loss: 0.4237 - mean_absolute_error: 0.5629 - val_loss: 0.6949 - val_mean_absolute_error: 0.7850\n",
      "Epoch 22/100\n",
      "452/452 [==============================] - 1s 2ms/step - loss: 0.4233 - mean_absolute_error: 0.5644 - val_loss: 0.8095 - val_mean_absolute_error: 0.8548\n",
      "Epoch 23/100\n",
      "452/452 [==============================] - 1s 2ms/step - loss: 0.4200 - mean_absolute_error: 0.5606 - val_loss: 0.7160 - val_mean_absolute_error: 0.7982\n",
      "Epoch 24/100\n",
      "452/452 [==============================] - 1s 2ms/step - loss: 0.4147 - mean_absolute_error: 0.5572 - val_loss: 0.8375 - val_mean_absolute_error: 0.8709\n",
      "Epoch 25/100\n",
      "452/452 [==============================] - 1s 2ms/step - loss: 0.4137 - mean_absolute_error: 0.5560 - val_loss: 0.7413 - val_mean_absolute_error: 0.8138\n",
      "Epoch 26/100\n",
      "452/452 [==============================] - 1s 2ms/step - loss: 0.4117 - mean_absolute_error: 0.5535 - val_loss: 0.7048 - val_mean_absolute_error: 0.7910\n",
      "Epoch 27/100\n",
      "452/452 [==============================] - 1s 3ms/step - loss: 0.4114 - mean_absolute_error: 0.5527 - val_loss: 0.7271 - val_mean_absolute_error: 0.8050\n",
      "Epoch 28/100\n",
      "452/452 [==============================] - 1s 2ms/step - loss: 0.4065 - mean_absolute_error: 0.5487 - val_loss: 0.6824 - val_mean_absolute_error: 0.7767\n",
      "Epoch 29/100\n",
      "452/452 [==============================] - 1s 2ms/step - loss: 0.4058 - mean_absolute_error: 0.5490 - val_loss: 0.7910 - val_mean_absolute_error: 0.8437\n",
      "Epoch 30/100\n",
      "452/452 [==============================] - 1s 2ms/step - loss: 0.3973 - mean_absolute_error: 0.5416 - val_loss: 0.7321 - val_mean_absolute_error: 0.8080\n",
      "Epoch 31/100\n",
      "452/452 [==============================] - 1s 2ms/step - loss: 0.3980 - mean_absolute_error: 0.5427 - val_loss: 0.7580 - val_mean_absolute_error: 0.8239\n",
      "Epoch 32/100\n",
      "452/452 [==============================] - 1s 2ms/step - loss: 0.3966 - mean_absolute_error: 0.5408 - val_loss: 0.6972 - val_mean_absolute_error: 0.7862\n",
      "Epoch 33/100\n",
      "452/452 [==============================] - 1s 2ms/step - loss: 0.3935 - mean_absolute_error: 0.5388 - val_loss: 0.7255 - val_mean_absolute_error: 0.8041\n",
      "Epoch 34/100\n",
      "452/452 [==============================] - ETA: 0s - loss: 0.3889 - mean_absolute_error: 0.532 - 1s 2ms/step - loss: 0.3898 - mean_absolute_error: 0.5333 - val_loss: 0.6524 - val_mean_absolute_error: 0.7573\n",
      "Epoch 35/100\n",
      "452/452 [==============================] - 1s 2ms/step - loss: 0.3838 - mean_absolute_error: 0.5292 - val_loss: 0.7338 - val_mean_absolute_error: 0.8093\n",
      "Epoch 36/100\n",
      "452/452 [==============================] - 1s 3ms/step - loss: 0.3802 - mean_absolute_error: 0.5250 - val_loss: 0.7586 - val_mean_absolute_error: 0.8245\n",
      "Epoch 37/100\n",
      "452/452 [==============================] - 1s 2ms/step - loss: 0.3761 - mean_absolute_error: 0.5205 - val_loss: 0.7026 - val_mean_absolute_error: 0.7900\n",
      "Epoch 38/100\n",
      "452/452 [==============================] - 1s 2ms/step - loss: 0.3777 - mean_absolute_error: 0.5246 - val_loss: 0.7307 - val_mean_absolute_error: 0.8078\n",
      "Epoch 39/100\n",
      "452/452 [==============================] - 1s 2ms/step - loss: 0.3712 - mean_absolute_error: 0.5177 - val_loss: 0.7923 - val_mean_absolute_error: 0.8452\n",
      "Epoch 40/100\n",
      "452/452 [==============================] - 1s 2ms/step - loss: 0.3653 - mean_absolute_error: 0.5122 - val_loss: 0.8799 - val_mean_absolute_error: 0.8957\n",
      "Epoch 41/100\n",
      "452/452 [==============================] - 1s 2ms/step - loss: 0.3622 - mean_absolute_error: 0.5103 - val_loss: 0.7756 - val_mean_absolute_error: 0.8356\n",
      "Epoch 42/100\n",
      "452/452 [==============================] - 1s 3ms/step - loss: 0.3557 - mean_absolute_error: 0.5058 - val_loss: 0.8852 - val_mean_absolute_error: 0.8990\n",
      "Epoch 43/100\n",
      "452/452 [==============================] - 1s 2ms/step - loss: 0.3527 - mean_absolute_error: 0.5021 - val_loss: 0.8355 - val_mean_absolute_error: 0.8713\n",
      "Epoch 44/100\n",
      "452/452 [==============================] - 1s 2ms/step - loss: 0.3429 - mean_absolute_error: 0.4954 - val_loss: 0.8560 - val_mean_absolute_error: 0.8832\n",
      "Epoch 45/100\n",
      "452/452 [==============================] - 1s 2ms/step - loss: 0.3330 - mean_absolute_error: 0.4872 - val_loss: 0.8532 - val_mean_absolute_error: 0.8820\n",
      "Epoch 46/100\n",
      "452/452 [==============================] - 1s 2ms/step - loss: 0.3261 - mean_absolute_error: 0.4807 - val_loss: 0.9082 - val_mean_absolute_error: 0.9128\n",
      "Epoch 47/100\n",
      "452/452 [==============================] - 1s 2ms/step - loss: 0.3182 - mean_absolute_error: 0.4733 - val_loss: 1.0085 - val_mean_absolute_error: 0.9662\n",
      "Epoch 48/100\n",
      "452/452 [==============================] - 1s 2ms/step - loss: 0.3135 - mean_absolute_error: 0.4690 - val_loss: 0.9202 - val_mean_absolute_error: 0.9194\n",
      "Epoch 49/100\n"
     ]
    },
    {
     "name": "stdout",
     "output_type": "stream",
     "text": [
      "452/452 [==============================] - 1s 2ms/step - loss: 0.3003 - mean_absolute_error: 0.4575 - val_loss: 1.0760 - val_mean_absolute_error: 1.0004\n",
      "Epoch 50/100\n",
      "452/452 [==============================] - 1s 2ms/step - loss: 0.2924 - mean_absolute_error: 0.4497 - val_loss: 1.1713 - val_mean_absolute_error: 1.0468\n",
      "Epoch 51/100\n",
      "452/452 [==============================] - 1s 2ms/step - loss: 0.2905 - mean_absolute_error: 0.4471 - val_loss: 1.1549 - val_mean_absolute_error: 1.0388\n",
      "Epoch 52/100\n",
      "452/452 [==============================] - 1s 2ms/step - loss: 0.2865 - mean_absolute_error: 0.4424 - val_loss: 1.1425 - val_mean_absolute_error: 1.0326\n",
      "Epoch 53/100\n",
      "452/452 [==============================] - 1s 1ms/step - loss: 0.2816 - mean_absolute_error: 0.4380 - val_loss: 1.1558 - val_mean_absolute_error: 1.0388\n",
      "Epoch 54/100\n",
      "452/452 [==============================] - 1s 2ms/step - loss: 0.2746 - mean_absolute_error: 0.4337 - val_loss: 1.1374 - val_mean_absolute_error: 1.0297\n",
      "Epoch 55/100\n",
      "452/452 [==============================] - 1s 2ms/step - loss: 0.2709 - mean_absolute_error: 0.4287 - val_loss: 1.2293 - val_mean_absolute_error: 1.0731\n",
      "Epoch 56/100\n",
      "452/452 [==============================] - 1s 1ms/step - loss: 0.2660 - mean_absolute_error: 0.4228 - val_loss: 1.2790 - val_mean_absolute_error: 1.0959\n",
      "Epoch 57/100\n",
      "452/452 [==============================] - 0s 1ms/step - loss: 0.2677 - mean_absolute_error: 0.4249 - val_loss: 1.1841 - val_mean_absolute_error: 1.0515\n",
      "Epoch 58/100\n",
      "452/452 [==============================] - 1s 1ms/step - loss: 0.2646 - mean_absolute_error: 0.4199 - val_loss: 1.3359 - val_mean_absolute_error: 1.1212\n",
      "Epoch 59/100\n",
      "452/452 [==============================] - 1s 1ms/step - loss: 0.2610 - mean_absolute_error: 0.4177 - val_loss: 1.3175 - val_mean_absolute_error: 1.1128\n",
      "Epoch 60/100\n",
      "452/452 [==============================] - 1s 2ms/step - loss: 0.2715 - mean_absolute_error: 0.4281 - val_loss: 1.2030 - val_mean_absolute_error: 1.0601\n",
      "Epoch 61/100\n",
      "452/452 [==============================] - 1s 2ms/step - loss: 0.2565 - mean_absolute_error: 0.4159 - val_loss: 1.1931 - val_mean_absolute_error: 1.0552\n",
      "Epoch 62/100\n",
      "452/452 [==============================] - 1s 2ms/step - loss: 0.2607 - mean_absolute_error: 0.4191 - val_loss: 1.2852 - val_mean_absolute_error: 1.0979\n",
      "Epoch 63/100\n",
      "452/452 [==============================] - 1s 2ms/step - loss: 0.2510 - mean_absolute_error: 0.4087 - val_loss: 1.3947 - val_mean_absolute_error: 1.1466\n",
      "Epoch 64/100\n",
      "452/452 [==============================] - 1s 1ms/step - loss: 0.2518 - mean_absolute_error: 0.4104 - val_loss: 1.4198 - val_mean_absolute_error: 1.1573\n",
      "Epoch 65/100\n",
      "452/452 [==============================] - 1s 1ms/step - loss: 0.2483 - mean_absolute_error: 0.4063 - val_loss: 1.3510 - val_mean_absolute_error: 1.1271\n",
      "Epoch 66/100\n",
      "452/452 [==============================] - 1s 1ms/step - loss: 0.2496 - mean_absolute_error: 0.4056 - val_loss: 1.3796 - val_mean_absolute_error: 1.1397\n",
      "Epoch 67/100\n",
      "452/452 [==============================] - 1s 1ms/step - loss: 0.2540 - mean_absolute_error: 0.4105 - val_loss: 1.3218 - val_mean_absolute_error: 1.1140\n",
      "Epoch 68/100\n",
      "452/452 [==============================] - 1s 1ms/step - loss: 0.2544 - mean_absolute_error: 0.4116 - val_loss: 1.2830 - val_mean_absolute_error: 1.0965\n",
      "Epoch 69/100\n",
      "452/452 [==============================] - 1s 1ms/step - loss: 0.2386 - mean_absolute_error: 0.3966 - val_loss: 1.3700 - val_mean_absolute_error: 1.1354\n",
      "Epoch 70/100\n",
      "452/452 [==============================] - 1s 1ms/step - loss: 0.2408 - mean_absolute_error: 0.3989 - val_loss: 1.3742 - val_mean_absolute_error: 1.1372\n",
      "Epoch 71/100\n",
      "452/452 [==============================] - 1s 1ms/step - loss: 0.2504 - mean_absolute_error: 0.4078 - val_loss: 1.4029 - val_mean_absolute_error: 1.1497\n",
      "Epoch 72/100\n",
      "452/452 [==============================] - 1s 1ms/step - loss: 0.2338 - mean_absolute_error: 0.3912 - val_loss: 1.4253 - val_mean_absolute_error: 1.1593\n",
      "Epoch 73/100\n",
      "452/452 [==============================] - 1s 1ms/step - loss: 0.2326 - mean_absolute_error: 0.3916 - val_loss: 1.3089 - val_mean_absolute_error: 1.1080\n",
      "Epoch 74/100\n",
      "452/452 [==============================] - 1s 1ms/step - loss: 0.2449 - mean_absolute_error: 0.4034 - val_loss: 1.3700 - val_mean_absolute_error: 1.1352\n",
      "Epoch 75/100\n",
      "452/452 [==============================] - ETA: 0s - loss: 0.2387 - mean_absolute_error: 0.398 - 1s 1ms/step - loss: 0.2346 - mean_absolute_error: 0.3934 - val_loss: 1.3998 - val_mean_absolute_error: 1.1482\n",
      "Epoch 76/100\n",
      "452/452 [==============================] - 1s 1ms/step - loss: 0.2279 - mean_absolute_error: 0.3855 - val_loss: 1.3820 - val_mean_absolute_error: 1.1406\n",
      "Epoch 77/100\n",
      "452/452 [==============================] - 1s 1ms/step - loss: 0.2428 - mean_absolute_error: 0.4009 - val_loss: 1.3536 - val_mean_absolute_error: 1.1280\n",
      "Epoch 78/100\n",
      "452/452 [==============================] - 1s 1ms/step - loss: 0.2321 - mean_absolute_error: 0.3922 - val_loss: 1.3572 - val_mean_absolute_error: 1.1294\n",
      "Epoch 79/100\n",
      "452/452 [==============================] - 1s 1ms/step - loss: 0.2252 - mean_absolute_error: 0.3846 - val_loss: 1.3340 - val_mean_absolute_error: 1.1190\n",
      "Epoch 80/100\n",
      "452/452 [==============================] - 1s 1ms/step - loss: 0.2387 - mean_absolute_error: 0.3969 - val_loss: 1.3107 - val_mean_absolute_error: 1.1087\n",
      "Epoch 81/100\n",
      "452/452 [==============================] - 1s 1ms/step - loss: 0.2228 - mean_absolute_error: 0.3820 - val_loss: 1.3994 - val_mean_absolute_error: 1.1479\n",
      "Epoch 82/100\n",
      "452/452 [==============================] - 1s 1ms/step - loss: 0.2211 - mean_absolute_error: 0.3795 - val_loss: 1.3572 - val_mean_absolute_error: 1.1291\n",
      "Epoch 83/100\n",
      "452/452 [==============================] - 1s 1ms/step - loss: 0.2220 - mean_absolute_error: 0.3785 - val_loss: 1.3614 - val_mean_absolute_error: 1.1310\n",
      "Epoch 84/100\n",
      "452/452 [==============================] - 1s 1ms/step - loss: 0.2202 - mean_absolute_error: 0.3771 - val_loss: 1.3494 - val_mean_absolute_error: 1.1257\n",
      "Epoch 85/100\n",
      "452/452 [==============================] - 1s 1ms/step - loss: 0.2182 - mean_absolute_error: 0.3762 - val_loss: 1.3400 - val_mean_absolute_error: 1.1215\n",
      "Epoch 86/100\n",
      "452/452 [==============================] - 1s 1ms/step - loss: 0.2144 - mean_absolute_error: 0.3727 - val_loss: 1.3885 - val_mean_absolute_error: 1.1428\n",
      "Epoch 87/100\n",
      "452/452 [==============================] - 1s 1ms/step - loss: 0.2175 - mean_absolute_error: 0.3755 - val_loss: 1.4039 - val_mean_absolute_error: 1.1495\n",
      "Epoch 88/100\n",
      "452/452 [==============================] - 1s 2ms/step - loss: 0.2186 - mean_absolute_error: 0.3760 - val_loss: 1.4148 - val_mean_absolute_error: 1.1541\n",
      "Epoch 89/100\n",
      "452/452 [==============================] - 1s 2ms/step - loss: 0.2143 - mean_absolute_error: 0.3710 - val_loss: 1.3861 - val_mean_absolute_error: 1.1417\n",
      "Epoch 90/100\n",
      "452/452 [==============================] - 1s 2ms/step - loss: 0.2115 - mean_absolute_error: 0.3675 - val_loss: 1.3557 - val_mean_absolute_error: 1.1283\n",
      "Epoch 91/100\n",
      "452/452 [==============================] - 1s 2ms/step - loss: 0.2103 - mean_absolute_error: 0.3658 - val_loss: 1.4364 - val_mean_absolute_error: 1.1636\n",
      "Epoch 92/100\n",
      "452/452 [==============================] - 0s 1ms/step - loss: 0.2155 - mean_absolute_error: 0.3720 - val_loss: 1.4409 - val_mean_absolute_error: 1.1653\n",
      "Epoch 93/100\n",
      "452/452 [==============================] - 1s 1ms/step - loss: 0.2070 - mean_absolute_error: 0.3626 - val_loss: 1.4276 - val_mean_absolute_error: 1.1598\n",
      "Epoch 94/100\n",
      "452/452 [==============================] - 1s 1ms/step - loss: 0.2060 - mean_absolute_error: 0.3615 - val_loss: 1.3876 - val_mean_absolute_error: 1.1424\n",
      "Epoch 95/100\n",
      "452/452 [==============================] - 1s 1ms/step - loss: 0.2048 - mean_absolute_error: 0.3615 - val_loss: 1.4786 - val_mean_absolute_error: 1.1815\n",
      "Epoch 96/100\n",
      "452/452 [==============================] - 1s 1ms/step - loss: 0.2052 - mean_absolute_error: 0.3601 - val_loss: 1.4641 - val_mean_absolute_error: 1.1752\n",
      "Epoch 97/100\n",
      "452/452 [==============================] - 1s 1ms/step - loss: 0.2058 - mean_absolute_error: 0.3615 - val_loss: 1.4395 - val_mean_absolute_error: 1.1646\n",
      "Epoch 98/100\n"
     ]
    },
    {
     "name": "stdout",
     "output_type": "stream",
     "text": [
      "452/452 [==============================] - 1s 1ms/step - loss: 0.2063 - mean_absolute_error: 0.3616 - val_loss: 1.3200 - val_mean_absolute_error: 1.1123\n",
      "Epoch 99/100\n",
      "452/452 [==============================] - 1s 1ms/step - loss: 0.2029 - mean_absolute_error: 0.3589 - val_loss: 1.4845 - val_mean_absolute_error: 1.1839\n",
      "Epoch 100/100\n",
      "452/452 [==============================] - 1s 1ms/step - loss: 0.2041 - mean_absolute_error: 0.3587 - val_loss: 1.4160 - val_mean_absolute_error: 1.1547\n",
      "It took: 79.42541432380676\n"
     ]
    }
   ],
   "source": [
    "start = time.time()\n",
    "history  = model.fit(point, \n",
    "                     classification, \n",
    "                     epochs=100, \n",
    "                     batch_size=8, \n",
    "                     validation_split=0.2, \n",
    "                     shuffle=True\n",
    "                    )\n",
    "print(\"It took:\", time.time() - start)"
   ]
  },
  {
   "cell_type": "code",
   "execution_count": 97,
   "metadata": {},
   "outputs": [
    {
     "data": {
      "image/png": "[encoded data removed]",
      "text/plain": [
       "<Figure size 432x288 with 1 Axes>"
      ]
     },
     "metadata": {},
     "output_type": "display_data"
    }
   ],
   "source": [
    "loss = history.history['loss']\n",
    "val_loss = history.history['val_loss']\n",
    "\n",
    "epochs = range(1, len(loss) + 1)\n",
    "\n",
    "\n",
    "plt.plot(epochs, loss, 'bo', label='Training loss')\n",
    "plt.plot(epochs, val_loss, 'b', label='Validation loss')\n",
    "plt.title('Training and validation loss')\n",
    "plt.legend()\n",
    "\n",
    "plt.show()"
   ]
  },
  {
   "cell_type": "code",
   "execution_count": 103,
   "metadata": {},
   "outputs": [
    {
     "name": "stdout",
     "output_type": "stream",
     "text": [
      "565/565 [==============================] - 0s 184us/step\n",
      "Loss:  0.40532348303668264\n",
      "Accuracy:  0.47917216256656475\n"
     ]
    },
    {
     "name": "stderr",
     "output_type": "stream",
     "text": [
      "C:\\ProgramData\\Anaconda3\\lib\\site-packages\\ipykernel_launcher.py:2: DeprecationWarning: object of type <class 'float'> cannot be safely interpreted as an integer.\n",
      "  \n"
     ]
    }
   ],
   "source": [
    "test_point, test_classification = get_data(start=0, amount=2)\n",
    "(test_loss, test_acc) = model.evaluate(test_point, test_classification)\n",
    "print(\"Loss: \", test_loss)\n",
    "print(\"Accuracy: \", test_acc)"
   ]
  },
  {
   "cell_type": "code",
   "execution_count": 106,
   "metadata": {},
   "outputs": [
    {
     "data": {
      "image/png": "[encoded data removed]",
      "text/plain": [
       "<Figure size 432x288 with 1 Axes>"
      ]
     },
     "metadata": {},
     "output_type": "display_data"
    }
   ],
   "source": [
    "pred_classification = model.predict(test_point)\n",
    "\n",
    "#plt.plot(point.reshape(point.shape[0]*point.shape[1]) , classification.reshape(point.shape[0]*point.shape[1]))\n",
    "\n",
    "\n",
    "plt.plot(test_point.reshape(test_point.shape[0]*point.shape[1]) , pred_classification.reshape(test_point.shape[0]*point.shape[1]), 'ko')\n",
    "#plt.plot(test_point.reshape(test_point.shape[0]*point.shape[1]) , test_classification.reshape(test_point.shape[0]*point.shape[1]), 'bx')\n",
    "plt.show()"
   ]
  }
 ],
 "metadata": {
  "kernelspec": {
   "display_name": "Python 3",
   "language": "python",
   "name": "python3"
  },
  "language_info": {
   "codemirror_mode": {
    "name": "ipython",
    "version": 3
   },
   "file_extension": ".py",
   "mimetype": "text/x-python",
   "name": "python",
   "nbconvert_exporter": "python",
   "pygments_lexer": "ipython3",
   "version": "3.6.5"
  }
 },
 "nbformat": 4,
 "nbformat_minor": 2
}
