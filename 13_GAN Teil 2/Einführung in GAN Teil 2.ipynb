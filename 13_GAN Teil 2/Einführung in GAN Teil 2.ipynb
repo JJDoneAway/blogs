{
 "cells": [
  {
   "cell_type": "markdown",
   "metadata": {},
   "source": [
    "# GAN - Teil 2 - Keras kann auch Ziffern schreiben\n",
    "\n",
    "## Worum geht es in diesem Teil\n",
    "Nachdem ich im ersten Teil den grundlegenden Trick der GAN beschrieben habe, möchte ich hier ein einfaches GAN bauen, dass in der Lage ist, die handschriftlichen Ziffern aus der MNIST Datenbank täuschend echt nachzumachen.\n",
    "Ich verwende für diesen „Zaubertrank“ nur die elementaren Zutaten aus der Speisekammer der neuronalen Netze um mich auf die GAN Spezifika konzentrieren zu können. Nichts desto Trotz ist das Ergebnis schon recht beeindruckend. Wenn ich hier von Zaubertrank und Speisekammer rede, so geschieht das nicht ganz ohne Grund. In der Literatur wird gerne der Ausdruck \"Alchemie der GAN\" verwendet, der darauf hinweisen soll, dass man viel Erfahrung und Gespür beim Bau von GAN's benötigt. Das liegt daran, dass wir mit unseren neuronalen Netzen mittels Gradientenverfahren nicht einem festen Minima entgegenschreiten, sondern wir suchen ein Gleichgewicht zwischen G(z) und D(x). Dadurch verschieben sich die Minima in den Netzten nach jedem Iterationsschritt. Die Aufgabe beim Bau von GAN's ist es also seine Netzte so zu bauen, dass das Gleichgewicht leicht zu finden ist. Man braucht ein Netz wie eine tiefe Schüssel, in der eine kleine Kugel automatisch dem tiefsten Punkt und damit seinem Gleichgewicht zustrebt. Das andere Extrem ist ein Netz wie ein Bleistift, den man auf der Spitze ausbalancieren möchte, was bekanntlich schnell mal frustrieren kann. \n",
    "Hängen wir uns also unsere Druidenmäntel um und greifen zu unseren goldenen Sicheln 😊\n"
   ]
  },
  {
   "cell_type": "markdown",
   "metadata": {},
   "source": [
    "## Die lästigen Vorbereitungen\n",
    "Wie immer sammle ich alle nötigen Importstatements in einem Block \n"
   ]
  },
  {
   "cell_type": "code",
   "execution_count": null,
   "metadata": {
    "colab": {
     "base_uri": "https://localhost:8080/",
     "height": 35
    },
    "colab_type": "code",
    "id": "zY5grVFnoFdV",
    "outputId": "dd8533c6-aa7a-454a-ee4a-57ca6e8902fe"
   },
   "outputs": [],
   "source": [
    "#tensorflow\n",
    "import tensorflow as tf\n",
    "from tensorflow.python.client import device_lib\n",
    "from keras.backend.tensorflow_backend import set_session\n",
    "\n",
    "import keras\n",
    "from keras.layers import Input\n",
    "from keras.models import Model, Sequential\n",
    "from keras.layers.core import Dense, Dropout\n",
    "from keras.layers.advanced_activations import LeakyReLU\n",
    "from keras.datasets import mnist\n",
    "from keras.optimizers import Adam, RMSprop\n",
    "from keras import initializers\n",
    "\n",
    "config = tf.ConfigProto()\n",
    "config.gpu_options.allow_growth = True  # dynamically grow the memory used on the GPU\n",
    "config.log_device_placement = True  # to log device placement (on which device the operation ran)\n",
    "                                    # (nothing gets printed in Jupyter, only if you run it standalone)\n",
    "sess = tf.Session(config=config)\n",
    "set_session(sess)  # set this TensorFlow session as the default session for Keras\n",
    "print(\"TensorFlow Version:\\t{}\".format(tf.__version__))\n",
    "print(\"Keras Version:\\t\\t{}\".format(keras.__version__))\n",
    "print(\"Found GPU & CPU devices:\\n{}\".format(device_lib.list_local_devices()))\n",
    "\n",
    "\n",
    "import numpy as np\n",
    "import matplotlib.pyplot as plt\n",
    "\n",
    "# ein hübsches Tool für Progerss Bars\n",
    "from tqdm import tqdm\n",
    "\n",
    "# Für das Rauschen brauchen wir Zufallszahlen\n",
    "np.random.seed(911972)\n"
   ]
  },
  {
   "cell_type": "markdown",
   "metadata": {},
   "source": [
    "## Daten vorbereiten\n",
    "\n",
    "* Zuerst besorge ich mir die Testdaten auf dem üblichen Weg. \n",
    "* Da ich hier wirklich die einfachsten Netze verwenden möchte (also simple Dense Netze), sammle ich alle Pixelinformationen nicht in einer zwei dimensionalen 28 x 28 Matrix, sondern in einem 28 x 28 = 784 Elemente großen Vektor.\n",
    "* Ein erster Erfahrungswert ist es, den Tangens Hyperbolicus als finale Aktivierungsfunktion zu verwenden. Deshalb normiere ich meine Daten auf das Intervall von [-1, 1].\n",
    "* Die Größe des Input Vektors für den Generator setzte ich Zufällig auf 64\n",
    "* Die Optimierung der Hyperparameter ist die wesentliche Fleißarbeit. Somit sammle ich sie hier in einem Block zusammen.\n"
   ]
  },
  {
   "cell_type": "code",
   "execution_count": null,
   "metadata": {
    "colab": {},
    "colab_type": "code",
    "id": "PcQ3qQ-QpQIW"
   },
   "outputs": [],
   "source": [
    "(real_images_all, __), (__, __) = mnist.load_data()\n",
    "print('1. Rohdaten:')\n",
    "print(real_images_all[0, 14, 10:20])\n",
    "\n",
    "real_images_all = real_images_all.reshape(60000, 784)\n",
    "print('2. Zum Vektor aufgebogen:')\n",
    "print(real_images_all[0, 14*28 +10 : 14*28 + 20])\n",
    "\n",
    "real_images_all = real_images_all.astype('float32')  / 255 * 2 - 1\n",
    "print('3. in das Interval [-1, 1] normiert:')\n",
    "print(real_images_all[0, 14*28 +10 : 14*28 + 20])\n",
    "\n",
    "z_size = 64\n",
    "\n",
    "# Da ich für alle Netzte einen Optimizer brauche, der ein wenig sanfter als der Default eingestellt ist, monfiguriere ich ihn einmal\n",
    "#optimizer= Adam(lr=0.0002, beta_1=0.5)\n",
    "optimizer= RMSprop(lr=0.0008, clipvalue=1.0, decay=1e-8)\n",
    "\n",
    "# dropout ist wichtig bei GAN\n",
    "dropout_rate = 0.2\n",
    "\n",
    "# die steigung der LeakyReLu im negativen Bereich\n",
    "leaky_faktor = 0.2"
   ]
  },
  {
   "cell_type": "markdown",
   "metadata": {},
   "source": [
    "## Der Generator\n",
    "Im Prinzip ist der Generator das einfachste Netz, das man bauen kann. Eine kleine Besonderheit hat es aber dennoch. Ich verwende hier ‚LeakyReLU‘ als Ansatzfunktion. Seit einiger Zeit setzt sich ReLU als Allzweckwaffe unter den Ansatzfunktionen der Hidden - Layer durch. Allerdings hat sie eine kleine Schwäche. Dadurch, dass sie den negativen Wertebereich auf Null abbildet, lässt sie Knoten schnell absterben. Ein einmal abgestorbener Knoten wird nicht mehr aktiviert, da auf ihn kein Fehler mehr aufgeteilt wird. Das wirkt sich negativ auf das „tiefe“ propagieren von Fehlern aus. Mit der LeakyReLu wird dieses Problem repariert, indem man den negativen Wertebereich nicht ganz auf 0 abbildet. \n",
    "\n",
    "Als Aktivierungsfunktion des letzten Layers wähle ich wie bereits erwähnt den tanh als „magische“ Zutat.\n"
   ]
  },
  {
   "cell_type": "code",
   "execution_count": null,
   "metadata": {
    "colab": {},
    "colab_type": "code",
    "id": "ldJsnt31pQzV"
   },
   "outputs": [],
   "source": [
    "generator = Sequential()\n",
    "generator.add(Dense(256, input_dim=z_size))\n",
    "generator.add(LeakyReLU(leaky_faktor))\n",
    "\n",
    "generator.add(Dense(512))\n",
    "generator.add(LeakyReLU(leaky_faktor))\n",
    "\n",
    "generator.add(Dense(1024))\n",
    "generator.add(LeakyReLU(leaky_faktor))\n",
    "\n",
    "generator.add(Dense(784, activation='tanh'))\n",
    "generator.compile(loss='binary_crossentropy', optimizer=optimizer)\n",
    "generator.summary()\n"
   ]
  },
  {
   "cell_type": "markdown",
   "metadata": {},
   "source": [
    "## Der Diskriminator\n",
    "Der Diskriminator ist ähnlich schlicht aufgebaut, wie der Generator. Die Input Dimension ist 28 x 28, also jeweils ein Bild. Die Output Dimension ist ein Skalar zwischen Null und Eins.\n",
    "Der Diskriminator verfügt anders als der Generator über Dropout Layer, um auch hier den Zufall mit einzubinden. Der Zufall verhindert im GAN, dass sich die Netze zu schnell einschnüren und in einen dünn besiedelten Zustand gleiten. Das ist bei GAN’s sehr schlecht, da die „Kreativität“ in der Vielfalt der Möglichkeiten liegt. Somit müssen möglichst viele Gewichte aktiviert sein um eine möglichst breite Varianz zu bekommen. Der Diskriminator bekommt seine Vielfalt übrigens nicht durch Dropout Layer, sondern durch das Rauschen des Input Vektors z.\n"
   ]
  },
  {
   "cell_type": "code",
   "execution_count": null,
   "metadata": {},
   "outputs": [],
   "source": [
    "discriminator = Sequential()\n",
    "discriminator.add(Dense(1024, input_dim=784))\n",
    "discriminator.add(LeakyReLU(leaky_faktor))\n",
    "discriminator.add(Dropout(dropout_rate))\n",
    "\n",
    "discriminator.add(Dense(512))\n",
    "discriminator.add(LeakyReLU(leaky_faktor))\n",
    "discriminator.add(Dropout(dropout_rate))\n",
    "\n",
    "discriminator.add(Dense(256))\n",
    "discriminator.add(LeakyReLU(leaky_faktor))\n",
    "discriminator.add(Dropout(dropout_rate))\n",
    "\n",
    "discriminator.add(Dense(1, activation='sigmoid'))\n",
    "discriminator.compile(loss='binary_crossentropy', optimizer=optimizer)\n",
    "discriminator.summary()"
   ]
  },
  {
   "cell_type": "markdown",
   "metadata": {},
   "source": [
    "## Das GAN\n",
    "Um den Generator trainieren zu können, muss man das GAN zusammensetzen.  Dazu nutzt man bei Keras das funktionale API. Damit kann man einem Modell weitere Layer hinzufügen. So wird hier der Input Layer auf den Generator und dieser auf den Diskriminator geschichtet. Danach ruft man den Modell Konstruktor auf, um das GAN zu bekommen.\n",
    "Übrigens spiegelt sich in der funktionalen Schreibweise von Python die theoretische Herleitung der GAN’s wieder D(G(z)).\n"
   ]
  },
  {
   "cell_type": "code",
   "execution_count": null,
   "metadata": {
    "colab": {},
    "colab_type": "code",
    "id": "6WDCt1dFpVxy"
   },
   "outputs": [],
   "source": [
    "# der Diskriminator wird hier gleich eingefroren\n",
    "discriminator.trainable = False\n",
    "\n",
    "# der verrauschte Input Vektor\n",
    "z = Input(shape=(z_size,))\n",
    "\n",
    "# Das GAN D(G(z))\n",
    "gan_core = discriminator(generator(z))\n",
    "\n",
    "# Um ein eigenständiges Netz zu erhalten, baut man sich ein neues Modell\n",
    "gan = Model(inputs = z, outputs = gan_core)\n",
    "gan.compile(loss = 'binary_crossentropy', optimizer = optimizer)\n",
    "gan.summary()\n"
   ]
  },
  {
   "cell_type": "markdown",
   "metadata": {},
   "source": [
    "## Das Training\n",
    "Wie im Teil eins beschrieben werden hier folgende Schritte immer wieder abgearbeitet:\n",
    "1. Zuerst generiert man mit dem Generator einen Stapel Fake – Bilder, wobei wir ein nach Gauß normalverteiltes Rauschen erzeugen. (Es verändert übrigens die Qualität der Ergebnisse, wenn man die Werte σ und µ feinabstimmt.)\n",
    "2. Diese Bilder nimmt man zusammen mit gleich vielen echten Bildern, um den Diskriminator zu trainieren. Dadurch wird der Diskriminator ein wenig besser.\n",
    "3. Das GAN trainiert man mit einem Stapel Rauschens und fordert, dass das Ergebnis immer _real_ sein sollen, da wir ja die Realität fälschen wollen. D(G(z)) = 1.\n"
   ]
  },
  {
   "cell_type": "code",
   "execution_count": null,
   "metadata": {
    "colab": {},
    "colab_type": "code",
    "id": "6eThr0UwpZ5q",
    "scrolled": false
   },
   "outputs": [],
   "source": [
    "epochs = 5000\n",
    "batch_size = 128\n",
    "batch_count = real_images_all.shape[0] / batch_size\n",
    "\n",
    "σ = 1\n",
    "µ = 0\n",
    "\n",
    "history_g = []\n",
    "history_d = []\n",
    "\n",
    "for e in range(1, epochs+1):\n",
    "    print('-'*15, 'Epoch %d' % e, '-'*15)\n",
    "    for count in tqdm(range(int(batch_count))):\n",
    "        # 1.1 wir bauen 'bach_size' viele z vektoren mit normalverteiltem Rauschen der Länge 'z_size'\n",
    "        z = np.random.normal(µ, σ, size=[batch_size, z_size])\n",
    "        # 1.2 daraus generieren wir Fake Bilder\n",
    "        fake_images = generator.predict(z)\n",
    "\n",
    "        # 2.1 dazu entnehmen wir eine gleich große Anzahl an echten Bildern\n",
    "        real_images = real_images_all[np.random.randint(0, real_images_all.shape[0], size=batch_size)]\n",
    "        # 2.2 beide Stapel zusammen ergeben die Trainingsmenge für den Diskriminator\n",
    "        x_dis = np.concatenate([real_images, fake_images])\n",
    "        # 2.3 der Ergebnisvektor wird mit null also fake vorbelegt\n",
    "        y_dis = np.zeros(2*batch_size)\n",
    "        # 2.4 die richtigen Ergebnisse werden nicht mit 1 sondern mit 0.9 belegt. \n",
    "        #     Das nennt sich \"one-sided label smoothing\" und dient dazu die \"Früchte\" \n",
    "        #     nicht allzu hoch zu hängen \n",
    "        y_dis[batch_size:] = 0.9\n",
    "        # 2.5 den Diskriminator auffrieren\n",
    "        discriminator.trainable = True\n",
    "        # 2.6 und trainieren\n",
    "        history_d.append(discriminator.train_on_batch(x_dis, y_dis))\n",
    "\n",
    "        # 3.1 Wieder eine Stapel Rauschen bauen\n",
    "        x_gan = np.random.normal(µ, σ, size=[batch_size, z_size])\n",
    "        # 3.2 Um echte Bilder vorzutäuschen belegen wir die Antwort mit Null\n",
    "        y_gan = np.zeros(batch_size)\n",
    "        # 3.3 Den diskriminator einfrieren, um seine Gewichte nicht zu ändern\n",
    "        discriminator.trainable = False\n",
    "        # 3.4 und so den generator mittelbar als Teil des GANs trainieren\n",
    "        history_g.append(gan.train_on_batch(x_gan, y_gan))\n",
    "        \n",
    "    # alle 20 Schritte werfe ich eine kleine Auswertung aus    \n",
    "    if e == 1 or e % 20 == 0:\n",
    "        # 1. Die entwicklung der Verlusraten beider Trainings\n",
    "        plt.plot(history_g, 'r', label='generator loss')\n",
    "        plt.plot(history_d, 'b', label='discriminator loss')\n",
    "        plt.title('Training of D(x) and D((g(z)))')\n",
    "        plt.legend()\n",
    "        plt.show()\n",
    "        plt.close()\n",
    "\n",
    "        examples = 100\n",
    "        dim=(10, 10)\n",
    "        figsize=(10, 10)\n",
    "        noise = np.random.normal(µ, σ, size=[examples, z_size])\n",
    "        generated_images = generator.predict(noise)\n",
    "        generated_images = generated_images.reshape(examples, 28, 28)\n",
    "\n",
    "        # 2. Ein paar Demobilder\n",
    "        plt.figure(figsize=figsize)\n",
    "        for i in range(generated_images.shape[0]):\n",
    "            plt.subplot(dim[0], dim[1], i+1)\n",
    "            plt.imshow(generated_images[i], interpolation='nearest', cmap='gray_r')\n",
    "            plt.axis('off')\n",
    "        plt.tight_layout()\n",
    "        plt.savefig('output/gan_generated_image_epoch_%d.png' % e)\n",
    "        plt.close()\n",
    "        \n",
    "    # alle 40 Schritte speicher ich das Modell des generators\n",
    "    if e % 40 == 0:\n",
    "        # Gewichte speichern\n",
    "        generator.save('output_model/generator_model_%d.h5' % e)\n",
    "        # Konfiguration speichern\n",
    "        model_json = generator.to_json()\n",
    "        with open(\"output_model/generator_model_{}.json\".format(e), \"w\") as json_file:\n",
    "            json_file.write(model_json)\n"
   ]
  },
  {
   "cell_type": "markdown",
   "metadata": {},
   "source": [
    "## Schluss und wie geht es von hier weiter\n",
    "\n",
    "### Ergebnisse\n",
    "Nach der ersten Epoche sehen die Ziffern noch so aus:\n",
    "\n",
    "![Abb. 1: Ziffern nach der ersten Epoche]( gan_generated_image_epoch_1.png)\n",
    "\n",
    "![Abb. 2: Fehlerrate nach der ersten Epoche](loss_1.png)\n",
    "\n",
    "Wenn man dem Netz nun  ein wenig Zeit gibt, wird man schon nach wenigen Iterationen feststellen, dass Die Ergebnisse durchaus beeindruckend sind. \n",
    "\n",
    "Nach 300 Epochen sieht das Ergebnis dann so aus\n",
    "\n",
    "![Abb. 3: Ziffern nach 300 Epochen]( gan_generated_image_epoch_300.png)\n",
    "\n",
    "![Abb. 4: Fehlerrate nach 300 Epochen](loss_300.png)\n",
    "\n",
    "Lässt man das Netz weiter trainieren, stellt man fest, dass sich das Ergebnis nicht mehr wesentlich verbessert. Hier das Ergebnis nach 700 Epochen:\n",
    "\n",
    "![Abb. 5: Ziffern nach 700 Epochen]( gan_generated_image_epoch_700.png)\n",
    "\n",
    "![Abb. 6: Fehlerrate nach 700 Epochen](loss_700.png)\n",
    "\n",
    "Anscheinend ist das Netz an seiner Leistungsgrenze und konvergiert wirklich in ein stabiles Gleichgewicht. Natürlich fällt auf, dass viele der Ziffern sehr geschmiert erscheinen. Dazu darf man aber nicht vergessen, dass auch die originalen Ziffern, die der Diskriminator zum Trainieren bekommen hat nicht gerade einen Schönschreibwettbewerb gewinnen würden:\n",
    "![Abb. 7: Beispiel für die originalen Ziffern]( Sample-images-of-MNIST-data.png)\n",
    "\n",
    "Im Endeffekt erfindet das Netz nicht wirklich neue Ziffern, sondern bildet ein statistisches Mittel aus allen Bildern, mit denen es trainiert wurde und hebt Variationen aus dem Latenzraum, also den Raum der möglichen richtigen Ziffern. \n",
    "Was man nun als folgenden Schritt noch machen sollte, sind zwei Prüfungen:\n",
    "\n",
    "### Verteilung der Ziffern\n",
    "Sind die erfundenen Ziffern gleich verteilt? Wenn ich also zum Beispiel 100.000 Ziffern erfinden lasse, so sollten etwa 10.000 Stück pro einzelne Ziffer vorhanden sein. \n",
    "\n",
    "### Trennschärfe der Ziffern\n",
    "Wie deutlich lassen sich die erfundenen Ziffern erkennen? In einem meiner letzten Blogs ([So entwirft man ein Top CNN](https://www.mt-ag.com/so-entwirft-man-ein-top-cnn/)) habe ich ein recht passables Netz implementiert, das Ziffern mit hoher Genauigkeit erkennt. Wenn die erfundenen Ziffern nun durch dieses Netz geschickt werden, kann man prüfen, wie genau eine Ziffer zwischen Null und Neun erkannt wird. Ein mögliches Maß für diese Genauigkeit ist die von mir definierte Trennschärfe [Trennschärfe bei der Klassifizierung](https://www.mt-ag.com/trennschaerfe-bei-der-klassifizierung/)\n",
    "\n",
    "### Und weiter\n",
    "Die Architektur um die GAN’s hat sich schnell und tief entwickelt. Allerdings liegt der Fokus stark auf Bildern. Ich denke, man sollte auch Texten, Musik und Daten einer genaueren Untersuchung unterziehen, um auch hier Artefakte täuschend echt nachzuahmen. Alles in allem geht mit den GAN’s für mich die Reise in Richtung Turing Test…\n",
    "\n",
    "Ich wünsche Dir viel Spaß beim Ausprobieren.\n",
    "\n"
   ]
  }
 ],
 "metadata": {
  "accelerator": "GPU",
  "colab": {
   "name": "intro_to_gans.ipynb",
   "provenance": [],
   "version": "0.3.2"
  },
  "kernelspec": {
   "display_name": "Python 3",
   "language": "python",
   "name": "python3"
  },
  "language_info": {
   "codemirror_mode": {
    "name": "ipython",
    "version": 3
   },
   "file_extension": ".py",
   "mimetype": "text/x-python",
   "name": "python",
   "nbconvert_exporter": "python",
   "pygments_lexer": "ipython3",
   "version": "3.6.5"
  }
 },
 "nbformat": 4,
 "nbformat_minor": 1
}
